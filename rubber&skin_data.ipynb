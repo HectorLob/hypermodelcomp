{
 "cells": [
  {
   "cell_type": "code",
   "execution_count": 11,
   "metadata": {},
   "outputs": [],
   "source": [
    "import numpy as np\n",
    "import matplotlib\n",
    "import matplotlib.pyplot as plt\n",
    "import palettable\n",
    "import pickle\n",
    "from NODE_fns import NODE_sigma_vmap\n",
    "import pandas as pd"
   ]
  },
  {
   "cell_type": "markdown",
   "metadata": {},
   "source": [
    "### 1. Prepare porcine data"
   ]
  },
  {
   "cell_type": "code",
   "execution_count": 2,
   "metadata": {},
   "outputs": [],
   "source": [
    "with open('training_data/' + 'P12AC1_xybsxsy.npy', 'rb') as f:\n",
    "    lamb, sigma_gt = np.load(f,allow_pickle=True)"
   ]
  },
  {
   "cell_type": "code",
   "execution_count": 3,
   "metadata": {},
   "outputs": [
    {
     "data": {
      "text/html": [
       "<div>\n",
       "<style scoped>\n",
       "    .dataframe tbody tr th:only-of-type {\n",
       "        vertical-align: middle;\n",
       "    }\n",
       "\n",
       "    .dataframe tbody tr th {\n",
       "        vertical-align: top;\n",
       "    }\n",
       "\n",
       "    .dataframe thead th {\n",
       "        text-align: right;\n",
       "    }\n",
       "</style>\n",
       "<table border=\"1\" class=\"dataframe\">\n",
       "  <thead>\n",
       "    <tr style=\"text-align: right;\">\n",
       "      <th></th>\n",
       "      <th>lambda_x</th>\n",
       "      <th>lambda_y</th>\n",
       "      <th>sigma_xx [MPa]</th>\n",
       "      <th>sigma_yy [MPa]</th>\n",
       "    </tr>\n",
       "  </thead>\n",
       "  <tbody>\n",
       "    <tr>\n",
       "      <th>0</th>\n",
       "      <td>1.000000</td>\n",
       "      <td>1.000000</td>\n",
       "      <td>-0.000460</td>\n",
       "      <td>0.000278</td>\n",
       "    </tr>\n",
       "    <tr>\n",
       "      <th>1</th>\n",
       "      <td>1.001110</td>\n",
       "      <td>1.001934</td>\n",
       "      <td>0.002305</td>\n",
       "      <td>0.000278</td>\n",
       "    </tr>\n",
       "    <tr>\n",
       "      <th>2</th>\n",
       "      <td>1.002221</td>\n",
       "      <td>1.004006</td>\n",
       "      <td>0.000461</td>\n",
       "      <td>0.000279</td>\n",
       "    </tr>\n",
       "    <tr>\n",
       "      <th>3</th>\n",
       "      <td>1.003331</td>\n",
       "      <td>1.006354</td>\n",
       "      <td>-0.000462</td>\n",
       "      <td>0.000279</td>\n",
       "    </tr>\n",
       "    <tr>\n",
       "      <th>4</th>\n",
       "      <td>1.004442</td>\n",
       "      <td>1.008565</td>\n",
       "      <td>0.002313</td>\n",
       "      <td>0.001213</td>\n",
       "    </tr>\n",
       "    <tr>\n",
       "      <th>...</th>\n",
       "      <td>...</td>\n",
       "      <td>...</td>\n",
       "      <td>...</td>\n",
       "      <td>...</td>\n",
       "    </tr>\n",
       "    <tr>\n",
       "      <th>397</th>\n",
       "      <td>1.000000</td>\n",
       "      <td>1.143536</td>\n",
       "      <td>0.114521</td>\n",
       "      <td>0.498951</td>\n",
       "    </tr>\n",
       "    <tr>\n",
       "      <th>398</th>\n",
       "      <td>1.000000</td>\n",
       "      <td>1.145980</td>\n",
       "      <td>0.118142</td>\n",
       "      <td>0.528961</td>\n",
       "    </tr>\n",
       "    <tr>\n",
       "      <th>399</th>\n",
       "      <td>1.000000</td>\n",
       "      <td>1.148289</td>\n",
       "      <td>0.123574</td>\n",
       "      <td>0.556979</td>\n",
       "    </tr>\n",
       "    <tr>\n",
       "      <th>400</th>\n",
       "      <td>1.000000</td>\n",
       "      <td>1.150190</td>\n",
       "      <td>0.131631</td>\n",
       "      <td>0.587875</td>\n",
       "    </tr>\n",
       "    <tr>\n",
       "      <th>401</th>\n",
       "      <td>1.000000</td>\n",
       "      <td>1.152363</td>\n",
       "      <td>0.135253</td>\n",
       "      <td>0.608731</td>\n",
       "    </tr>\n",
       "  </tbody>\n",
       "</table>\n",
       "<p>402 rows × 4 columns</p>\n",
       "</div>"
      ],
      "text/plain": [
       "     lambda_x  lambda_y  sigma_xx [MPa]  sigma_yy [MPa]\n",
       "0    1.000000  1.000000       -0.000460        0.000278\n",
       "1    1.001110  1.001934        0.002305        0.000278\n",
       "2    1.002221  1.004006        0.000461        0.000279\n",
       "3    1.003331  1.006354       -0.000462        0.000279\n",
       "4    1.004442  1.008565        0.002313        0.001213\n",
       "..        ...       ...             ...             ...\n",
       "397  1.000000  1.143536        0.114521        0.498951\n",
       "398  1.000000  1.145980        0.118142        0.528961\n",
       "399  1.000000  1.148289        0.123574        0.556979\n",
       "400  1.000000  1.150190        0.131631        0.587875\n",
       "401  1.000000  1.152363        0.135253        0.608731\n",
       "\n",
       "[402 rows x 4 columns]"
      ]
     },
     "execution_count": 3,
     "metadata": {},
     "output_type": "execute_result"
    }
   ],
   "source": [
    "labels = ['lambda_x', 'lambda_y', 'sigma_xx [MPa]', 'sigma_yy [MPa]']\n",
    "df = pd.DataFrame(np.hstack([lamb,sigma_gt]), columns = labels)\n",
    "df"
   ]
  },
  {
   "cell_type": "code",
   "execution_count": 4,
   "metadata": {},
   "outputs": [],
   "source": [
    "df.to_csv('training_data/NODE_porcine_skin_data_1.csv')"
   ]
  },
  {
   "cell_type": "code",
   "execution_count": 5,
   "metadata": {},
   "outputs": [],
   "source": [
    "with open('training_data/' + 'P12BC2_xyb.npy', 'rb') as f:\n",
    "    lamb1, sigma_gt1 = np.load(f,allow_pickle=True)\n",
    "with open('training_data/' + 'P12BC2_sxsy.npy', 'rb') as f:\n",
    "    lamb2, sigma_gt2 = np.load(f,allow_pickle=True)\n",
    "\n",
    "lamb = np.vstack([lamb1,lamb2])\n",
    "sigma_gt = np.vstack([sigma_gt1, sigma_gt2])"
   ]
  },
  {
   "cell_type": "code",
   "execution_count": 6,
   "metadata": {},
   "outputs": [
    {
     "data": {
      "text/html": [
       "<div>\n",
       "<style scoped>\n",
       "    .dataframe tbody tr th:only-of-type {\n",
       "        vertical-align: middle;\n",
       "    }\n",
       "\n",
       "    .dataframe tbody tr th {\n",
       "        vertical-align: top;\n",
       "    }\n",
       "\n",
       "    .dataframe thead th {\n",
       "        text-align: right;\n",
       "    }\n",
       "</style>\n",
       "<table border=\"1\" class=\"dataframe\">\n",
       "  <thead>\n",
       "    <tr style=\"text-align: right;\">\n",
       "      <th></th>\n",
       "      <th>lambda_x</th>\n",
       "      <th>lambda_y</th>\n",
       "      <th>sigma_xx [MPa]</th>\n",
       "      <th>sigma_yy [MPa]</th>\n",
       "    </tr>\n",
       "  </thead>\n",
       "  <tbody>\n",
       "    <tr>\n",
       "      <th>0</th>\n",
       "      <td>1.000000</td>\n",
       "      <td>1.000000</td>\n",
       "      <td>0.001257</td>\n",
       "      <td>0.001971</td>\n",
       "    </tr>\n",
       "    <tr>\n",
       "      <th>1</th>\n",
       "      <td>1.001028</td>\n",
       "      <td>1.001760</td>\n",
       "      <td>0.002097</td>\n",
       "      <td>0.001116</td>\n",
       "    </tr>\n",
       "    <tr>\n",
       "      <th>2</th>\n",
       "      <td>1.002185</td>\n",
       "      <td>1.004023</td>\n",
       "      <td>0.000420</td>\n",
       "      <td>0.000258</td>\n",
       "    </tr>\n",
       "    <tr>\n",
       "      <th>3</th>\n",
       "      <td>1.003213</td>\n",
       "      <td>1.006285</td>\n",
       "      <td>0.002102</td>\n",
       "      <td>0.001121</td>\n",
       "    </tr>\n",
       "    <tr>\n",
       "      <th>4</th>\n",
       "      <td>1.004370</td>\n",
       "      <td>1.008422</td>\n",
       "      <td>-0.000421</td>\n",
       "      <td>0.000259</td>\n",
       "    </tr>\n",
       "    <tr>\n",
       "      <th>...</th>\n",
       "      <td>...</td>\n",
       "      <td>...</td>\n",
       "      <td>...</td>\n",
       "      <td>...</td>\n",
       "    </tr>\n",
       "    <tr>\n",
       "      <th>427</th>\n",
       "      <td>1.000000</td>\n",
       "      <td>1.171613</td>\n",
       "      <td>0.078489</td>\n",
       "      <td>0.472099</td>\n",
       "    </tr>\n",
       "    <tr>\n",
       "      <th>428</th>\n",
       "      <td>1.000000</td>\n",
       "      <td>1.173559</td>\n",
       "      <td>0.085705</td>\n",
       "      <td>0.496532</td>\n",
       "    </tr>\n",
       "    <tr>\n",
       "      <th>429</th>\n",
       "      <td>1.000000</td>\n",
       "      <td>1.175748</td>\n",
       "      <td>0.088948</td>\n",
       "      <td>0.518214</td>\n",
       "    </tr>\n",
       "    <tr>\n",
       "      <th>430</th>\n",
       "      <td>1.000000</td>\n",
       "      <td>1.178180</td>\n",
       "      <td>0.092921</td>\n",
       "      <td>0.548032</td>\n",
       "    </tr>\n",
       "    <tr>\n",
       "      <th>431</th>\n",
       "      <td>1.000000</td>\n",
       "      <td>1.180613</td>\n",
       "      <td>0.095354</td>\n",
       "      <td>0.576002</td>\n",
       "    </tr>\n",
       "  </tbody>\n",
       "</table>\n",
       "<p>432 rows × 4 columns</p>\n",
       "</div>"
      ],
      "text/plain": [
       "     lambda_x  lambda_y  sigma_xx [MPa]  sigma_yy [MPa]\n",
       "0    1.000000  1.000000        0.001257        0.001971\n",
       "1    1.001028  1.001760        0.002097        0.001116\n",
       "2    1.002185  1.004023        0.000420        0.000258\n",
       "3    1.003213  1.006285        0.002102        0.001121\n",
       "4    1.004370  1.008422       -0.000421        0.000259\n",
       "..        ...       ...             ...             ...\n",
       "427  1.000000  1.171613        0.078489        0.472099\n",
       "428  1.000000  1.173559        0.085705        0.496532\n",
       "429  1.000000  1.175748        0.088948        0.518214\n",
       "430  1.000000  1.178180        0.092921        0.548032\n",
       "431  1.000000  1.180613        0.095354        0.576002\n",
       "\n",
       "[432 rows x 4 columns]"
      ]
     },
     "execution_count": 6,
     "metadata": {},
     "output_type": "execute_result"
    }
   ],
   "source": [
    "labels = ['lambda_x', 'lambda_y', 'sigma_xx [MPa]', 'sigma_yy [MPa]']\n",
    "df = pd.DataFrame(np.hstack([lamb,sigma_gt]), columns = labels)\n",
    "df"
   ]
  },
  {
   "cell_type": "code",
   "execution_count": 7,
   "metadata": {},
   "outputs": [],
   "source": [
    "df.to_csv('training_data/NODE_porcine_skin_data_2.csv')"
   ]
  },
  {
   "cell_type": "markdown",
   "metadata": {},
   "source": [
    "# 2. Prepare the rubber data for training"
   ]
  },
  {
   "cell_type": "markdown",
   "metadata": {},
   "source": [
    "### First Piola-Kirchhoff stress"
   ]
  },
  {
   "cell_type": "code",
   "execution_count": 12,
   "metadata": {},
   "outputs": [],
   "source": [
    "ex = pd.read_excel('training_data/CANNSdata.xlsx')\n",
    "rubber20UT_F11 = np.array(ex.iloc[4:29,0], dtype='float')\n",
    "rubber20UT_P11 = np.array(ex.iloc[4:29,2], dtype='float')\n",
    "\n",
    "rubber20ET_F11 = np.array(ex.iloc[4:21,3], dtype='float')\n",
    "rubber20ET_P11 = np.array(ex.iloc[4:21,5], dtype='float')\n",
    "\n",
    "rubber20PS_F11 = np.array(ex.iloc[4:18,6], dtype='float')\n",
    "rubber20PS_P11 = np.array(ex.iloc[4:18,8], dtype='float')*10 #there is a mistake in the excel\n",
    "\n",
    "rubber50UT_F11 = np.array(ex.iloc[4:19,10], dtype='float')\n",
    "rubber50UT_P11 = np.array(ex.iloc[4:19,12], dtype='float')\n",
    "\n",
    "rubber50ET_F11 = np.array(ex.iloc[4:24,13], dtype='float')\n",
    "rubber50ET_P11 = np.array(ex.iloc[4:24,15], dtype='float')\n",
    "\n",
    "rubber50PS_F11 = np.array(ex.iloc[4:22,16], dtype='float')\n",
    "rubber50PS_P11 = np.array(ex.iloc[4:22,18], dtype='float')\n"
   ]
  },
  {
   "cell_type": "code",
   "execution_count": 13,
   "metadata": {},
   "outputs": [
    {
     "data": {
      "text/plain": [
       "[Text(0, 0.5, '$P_{11}$')]"
      ]
     },
     "execution_count": 13,
     "metadata": {},
     "output_type": "execute_result"
    },
    {
     "data": {
      "image/png": "[encoded data removed]",
      "text/plain": [
       "<Figure size 1080x720 with 6 Axes>"
      ]
     },
     "metadata": {
      "needs_background": "light"
     },
     "output_type": "display_data"
    }
   ],
   "source": [
    "row1x = [rubber20UT_F11, rubber20ET_F11, rubber20PS_F11]\n",
    "row1y = [rubber20UT_P11, rubber20ET_P11, rubber20PS_P11]\n",
    "row2x = [rubber50UT_F11, rubber50ET_F11, rubber50PS_F11]\n",
    "row2y = [rubber50UT_P11, rubber50ET_P11, rubber50PS_P11]\n",
    "plt.rcParams.update({'font.size': 12})\n",
    "fig, ax = plt.subplots(2,3,figsize=(15,10))\n",
    "for x,y,axi in zip(row1x, row1y, ax[0,:]):\n",
    "    axi.plot(x,y, 'o')\n",
    "    axi.set(xlabel='$F_{11}$')\n",
    "for x,y,axi in zip(row2x, row2y, ax[1,:]):\n",
    "    axi.plot(x,y, 'o')\n",
    "    axi.set(xlabel='$F_{11}$')\n",
    "\n",
    "ax[0,0].set(ylabel='$P_{11}$')\n",
    "ax[1,0].set(ylabel='$P_{11}$')"
   ]
  },
  {
   "cell_type": "markdown",
   "metadata": {},
   "source": [
    "### Cauchy stress"
   ]
  },
  {
   "cell_type": "code",
   "execution_count": 14,
   "metadata": {},
   "outputs": [],
   "source": [
    "# Uniaxial Tension (UT)\n",
    "# lm2 = lm3 = 1/sqrt(lm1)\n",
    "# sigma_22 = sigma_33 = 0\n",
    "rubber20UT_lmb = np.array([rubber20UT_F11, 1/np.sqrt(rubber20UT_F11)])\n",
    "rubber20UT_sgm = np.array([rubber20UT_P11*rubber20UT_F11, np.zeros_like(rubber20UT_P11)])\n",
    "\n",
    "rubber50UT_lmb = np.array([rubber50UT_F11, 1/np.sqrt(rubber50UT_F11)])\n",
    "rubber50UT_sgm = np.array([rubber50UT_P11*rubber50UT_F11, np.zeros_like(rubber50UT_P11)])\n",
    "\n",
    "# Equibiaxial tension (ET)\n",
    "# lm1 = lm2, lm3 = 1/(lm1*lm2)\n",
    "# sigma_22 = sigma_11, sigma_33 = 0\n",
    "rubber20ET_lmb = np.array([rubber20ET_F11, rubber20ET_F11]) \n",
    "rubber20ET_sgm = np.array([rubber20ET_P11*rubber20ET_F11, rubber20ET_P11*rubber20ET_F11]) \n",
    "\n",
    "rubber50ET_lmb = np.array([rubber50ET_F11, rubber50ET_F11])\n",
    "rubber50ET_sgm = np.array([rubber50ET_P11*rubber50ET_F11, rubber50ET_P11*rubber50ET_F11])\n",
    "\n",
    "# Pure Shear/Strip biaxial\n",
    "# lm2 = 1, lm3 = 1/lm1\n",
    "# We don't know sigma_22 so we will have to change the train fn\n",
    "rubber20PS_lmb = np.array([rubber20PS_F11, np.ones_like(rubber20PS_F11)]) \n",
    "rubber20PS_sgm = np.array([rubber20PS_P11*rubber20PS_F11, np.zeros_like(rubber20PS_P11)])\n",
    "\n",
    "rubber50PS_lmb = np.array([rubber50PS_F11, np.ones_like(rubber50PS_F11)])\n",
    "rubber50PS_sgm = np.array([rubber50PS_P11*rubber50PS_F11, np.zeros_like(rubber50PS_P11)])\n",
    "\n",
    "rubber20_lmb = np.hstack([rubber20UT_lmb, rubber20ET_lmb, rubber20PS_lmb]).T\n",
    "rubber20_sgm = np.hstack([rubber20UT_sgm, rubber20ET_sgm, rubber20PS_sgm]).T\n",
    "rubber50_lmb = np.hstack([rubber50UT_lmb, rubber50ET_lmb, rubber50PS_lmb]).T\n",
    "rubber50_sgm = np.hstack([rubber50UT_sgm, rubber50ET_sgm, rubber50PS_sgm]).T\n",
    "\n",
    "with open('training_data/rubber20UT_ET_PS.npy', 'wb') as f:\n",
    "    np.save(f,[rubber20_lmb,rubber20_sgm], allow_pickle=True)\n",
    "\n",
    "with open('training_data/rubber50UT_ET_PS.npy', 'wb') as f:\n",
    "    np.save(f,[rubber50_lmb,rubber50_sgm], allow_pickle=True)\n",
    "\n",
    "n_UT = 25\n",
    "n_ET = 17\n",
    "n_PS = 14\n",
    "i_UT = n_UT\n",
    "i_ET = i_UT + n_ET\n",
    "i_PS = i_ET + n_PS\n",
    "with open('training_data/rubber20UT.npy', 'wb') as f:\n",
    "    np.save(f,[rubber20_lmb[:i_UT],rubber20_sgm[:i_UT]], allow_pickle=True)\n",
    "with open('training_data/rubber20ET.npy', 'wb') as f:\n",
    "    np.save(f,[rubber20_lmb[i_UT:i_ET],rubber20_sgm[i_UT:i_ET]], allow_pickle=True)\n",
    "with open('training_data/rubber20PS.npy', 'wb') as f:\n",
    "    np.save(f,[rubber20_lmb[i_ET:i_PS],rubber20_sgm[i_ET:i_PS]], allow_pickle=True)\n",
    "with open('training_data/rubber20UT_ET.npy', 'wb') as f:\n",
    "    np.save(f,[rubber20_lmb[:i_ET],rubber20_sgm[:i_ET]], allow_pickle=True)"
   ]
  },
  {
   "cell_type": "code",
   "execution_count": 5,
   "metadata": {},
   "outputs": [
    {
     "data": {
      "text/plain": [
       "[Text(0, 0.5, '$\\\\sigma_{11}$')]"
      ]
     },
     "execution_count": 5,
     "metadata": {},
     "output_type": "execute_result"
    },
    {
     "data": {
      "image/png": "[encoded data removed]",
      "text/plain": [
       "<Figure size 1080x720 with 6 Axes>"
      ]
     },
     "metadata": {
      "needs_background": "light"
     },
     "output_type": "display_data"
    }
   ],
   "source": [
    "row1x = [rubber20UT_lmb[0,:], rubber20ET_lmb[0,:], rubber20PS_lmb[0,:]]\n",
    "row1y = [rubber20UT_sgm[0,:], rubber20ET_sgm[0,:], rubber20PS_sgm[0,:]]\n",
    "row2x = [rubber50UT_lmb[0,:], rubber50ET_lmb[0,:], rubber50PS_lmb[0,:]]\n",
    "row2y = [rubber50UT_sgm[0,:], rubber50ET_sgm[0,:], rubber50PS_sgm[0,:]]\n",
    "fig, ax = plt.subplots(2,3,figsize=(15,10))\n",
    "for x,y,axi in zip(row1x, row1y, ax[0,:]):\n",
    "    axi.plot(x,y, 'o')\n",
    "    axi.set(xlabel='$\\lambda_x$')\n",
    "for x,y,axi in zip(row2x, row2y, ax[1,:]):\n",
    "    axi.plot(x,y, 'o')\n",
    "    axi.set(xlabel='$\\lambda_x$')\n",
    "\n",
    "ax[0,0].set(ylabel='$\\sigma_{11}$')\n",
    "ax[1,0].set(ylabel='$\\sigma_{11}$')\n"
   ]
  },
  {
   "cell_type": "markdown",
   "metadata": {},
   "source": [
    "### Second Piola Kirchhoff stress"
   ]
  },
  {
   "cell_type": "code",
   "execution_count": 6,
   "metadata": {},
   "outputs": [
    {
     "data": {
      "image/png": "[encoded data removed]",
      "text/plain": [
       "<Figure size 1080x720 with 6 Axes>"
      ]
     },
     "metadata": {
      "needs_background": "light"
     },
     "output_type": "display_data"
    }
   ],
   "source": [
    "rubber20UT_S11 = rubber20UT_P11/rubber20UT_F11\n",
    "rubber20ET_S11 = rubber20ET_P11/rubber20ET_F11\n",
    "rubber20PS_S11 = rubber20PS_P11/rubber20PS_F11\n",
    "\n",
    "rubber50UT_S11 = rubber50UT_P11/rubber50UT_F11\n",
    "rubber50ET_S11 = rubber50ET_P11/rubber50ET_F11\n",
    "rubber50PS_S11 = rubber50PS_P11/rubber50PS_F11\n",
    "\n",
    "row1x = [rubber20UT_lmb[0,:], rubber20ET_lmb[0,:], rubber20PS_lmb[0,:]]\n",
    "row1y = [rubber20UT_S11, rubber20ET_S11, rubber20PS_S11]\n",
    "row2x = [rubber50UT_lmb[0,:], rubber50ET_lmb[0,:], rubber50PS_lmb[0,:]]\n",
    "row2y = [rubber50UT_S11, rubber50ET_S11, rubber50PS_S11]\n",
    "\n",
    "fig, ax = plt.subplots(2,3,figsize=(15,10))\n",
    "for x,y,axi in zip(row1x, row1y, ax[0,:]):\n",
    "    axi.plot(x,y, 'o')\n",
    "    axi.set(xlabel='$\\lambda_x$')\n",
    "for x,y,axi in zip(row2x, row2y, ax[1,:]):\n",
    "    axi.plot(x,y, 'o')\n",
    "    axi.set(xlabel='$\\lambda_x$')\n",
    "\n",
    "ax[0,0].set(ylabel='$S_{11}$')\n",
    "ax[1,0].set(ylabel='$S_{11}$'); "
   ]
  },
  {
   "cell_type": "markdown",
   "metadata": {},
   "source": [
    "### Check convexity (Monotonicity of S wrt C)"
   ]
  },
  {
   "cell_type": "code",
   "execution_count": 7,
   "metadata": {},
   "outputs": [],
   "source": [
    "z = np.zeros_like(rubber20UT_F11)\n",
    "rubber20UT_F = np.array([[rubber20UT_F11, z, z] ,[z, 1/np.sqrt(rubber20UT_F11), z], [z, z, 1/np.sqrt(rubber20UT_F11)]]).T\n",
    "rubber20UT_C = np.einsum('pij,pkj->pik', rubber20UT_F, rubber20UT_F)\n",
    "rubber20UT_S = np.array([[rubber20UT_S11, z, z] ,[z, z, z], [z, z, z]]).T"
   ]
  },
  {
   "cell_type": "code",
   "execution_count": 8,
   "metadata": {},
   "outputs": [
    {
     "data": {
      "text/plain": [
       "array([0., 0., 0., 0., 0., 0., 0., 0., 0., 0., 0., 0., 0., 0., 0., 0., 0.,\n",
       "       0., 0., 0., 0., 0., 0., 0., 0.])"
      ]
     },
     "execution_count": 8,
     "metadata": {},
     "output_type": "execute_result"
    }
   ],
   "source": [
    "ndata = rubber20UT_F.shape[0]\n",
    "global_convexity = np.zeros(ndata)\n",
    "for i in range(ndata):\n",
    "    for j in range(ndata):\n",
    "        temp = np.einsum('ij,ij', rubber20UT_S[i]-rubber20UT_S[j], rubber20UT_C[i]-rubber20UT_C[j])\n",
    "        global_convexity[i]+= np.min([0,temp])\n",
    "global_convexity"
   ]
  },
  {
   "cell_type": "markdown",
   "metadata": {},
   "source": [
    "### Ghent model fit"
   ]
  },
  {
   "cell_type": "code",
   "execution_count": 92,
   "metadata": {},
   "outputs": [
    {
     "data": {
      "text/plain": [
       "[<matplotlib.lines.Line2D at 0x7f7df3392be0>]"
      ]
     },
     "execution_count": 92,
     "metadata": {},
     "output_type": "execute_result"
    },
    {
     "data": {
      "image/png": "[encoded data removed]",
      "text/plain": [
       "<Figure size 432x288 with 1 Axes>"
      ]
     },
     "metadata": {
      "needs_background": "light"
     },
     "output_type": "display_data"
    }
   ],
   "source": [
    "fig, ax = plt.subplots()\n",
    "lmb = rubber20UT_lmb.T\n",
    "mu = 0.27812\n",
    "J = 85.2358\n",
    "lm3 = 1/(lmb[:,0]*lmb[:,1])\n",
    "z = np.zeros_like(lm3)\n",
    "F = np.array([[lmb[:,0], z, z],\n",
    "              [z, lmb[:,1], z],\n",
    "              [z, z, lm3      ]]).T\n",
    "C = np.einsum('pij,pjk->pik', F, F)\n",
    "Cinv = np.linalg.inv(C)\n",
    "I1 = lmb[:,0]**2 + lmb[:,1]**2 + lm3**2\n",
    "\n",
    "c1 = mu/2*(J/(J-I1+3))\n",
    "p = -2*c1*C[:,2,2]\n",
    "S = np.zeros_like(C)\n",
    "for i in range(S.shape[0]):\n",
    "    S[i] = 2*c1[i]*(np.eye(3) - C[i,2,2]*Cinv[i])\n",
    "\n",
    "# S_pr = np.einsum('p,ij->pij', 2*c1, np.eye(3))\n",
    "# # for i in range(S_pr.shape[0]):\n",
    "# #     S_pr[i] = S_pr[i] - S_pr[i,2,2]*Cinv[i]/Cinv[i,2,2]\n",
    "# p = S_pr[:,2,2]/Cinv[:,2,2]\n",
    "# S_pr = S_pr - np.einsum('p,pij->pij', p, Cinv)\n",
    "\n",
    "sigma_pr = np.einsum('pij, pjk, pkl-> pil', F, S, F)\n",
    "ax.plot(lmb[:,0],sigma_pr[:,0,0]) \n",
    "ax.plot(lmb[:,0],rubber20UT_sgm[0,:],'.')\n",
    "\n",
    "# # Other method\n",
    "# P1 = 2*c1*(lmb[:,0]-1/lmb[:,0]**2)\n",
    "# ax.plot(lmb[:,0],P1) \n",
    "# ax.plot(lmb[:,0],rubber20UT_P11,'.')"
   ]
  },
  {
   "cell_type": "markdown",
   "metadata": {},
   "source": [
    "### Fit 1 neural ODE to Ghent model (because it fits the data well)"
   ]
  },
  {
   "cell_type": "code",
   "execution_count": 17,
   "metadata": {},
   "outputs": [
    {
     "name": "stderr",
     "output_type": "stream",
     "text": [
      "/opt/anaconda3/lib/python3.8/site-packages/jax/lib/xla_bridge.py:130: UserWarning: No GPU/TPU found, falling back to CPU.\n",
      "  warnings.warn('No GPU/TPU found, falling back to CPU.')\n"
     ]
    },
    {
     "name": "stdout",
     "output_type": "stream",
     "text": [
      "it 10000, train loss = 1.730953e-01\n",
      "it 20000, train loss = 1.844518e-03\n",
      "it 30000, train loss = 1.191332e-04\n",
      "it 40000, train loss = 6.291359e-08\n",
      "it 50000, train loss = 6.070047e-08\n",
      "it 60000, train loss = 6.082119e-08\n",
      "it 70000, train loss = 6.068844e-08\n",
      "it 80000, train loss = 6.068191e-08\n",
      "it 90000, train loss = 6.078970e-08\n",
      "it 100000, train loss = 6.072315e-08\n"
     ]
    }
   ],
   "source": [
    "from NODE_fns import NODE_vmap as NN\n",
    "from jax import grad, vmap, jit, partial, random\n",
    "key = random.PRNGKey(0)\n",
    "from jax.experimental import optimizers\n",
    "\n",
    "def loss(params):\n",
    "    params, bias = params\n",
    "    mu = 0.27812\n",
    "    J = 85.2358\n",
    "    I1 = np.linspace(3,50)\n",
    "    pr = NN(I1-3,params) + bias\n",
    "    gt = mu/2*(J/(J-I1+3))\n",
    "    return np.mean((pr-gt)**2)\n",
    "\n",
    "@partial(jit, static_argnums=(0,))\n",
    "def step(loss, i, opt_state):\n",
    "    params = get_params(opt_state)\n",
    "    g = grad(loss)(params)\n",
    "    return opt_update(i, g, opt_state)\n",
    "\n",
    "def train(loss,opt_state, key, nIter = 10000):\n",
    "    train_loss = []\n",
    "    val_loss = []\n",
    "    for it in range(nIter):\n",
    "        key, subkey = random.split(key)\n",
    "        # idx_batch = random.choice(subkey, X.shape[0], shape = (batch_size,), replace = False)\n",
    "        opt_state = step(loss, it, opt_state)         \n",
    "        if (it+1)% 10000 == 0:\n",
    "            params = get_params(opt_state)\n",
    "            train_loss_value = loss(params)\n",
    "            train_loss.append(train_loss_value)\n",
    "            to_print = \"it %i, train loss = %e\" % (it+1, train_loss_value)\n",
    "            print(to_print)\n",
    "    return get_params(opt_state), train_loss, val_loss\n",
    "\n",
    "def init_params(layers, key):\n",
    "    Ws = []\n",
    "    for i in range(len(layers) - 1):\n",
    "        std_glorot = np.sqrt(2/(layers[i] + layers[i + 1]))\n",
    "        key, subkey = random.split(key)\n",
    "        Ws.append(random.normal(subkey, (layers[i], layers[i + 1]))*std_glorot)\n",
    "    return Ws\n",
    "\n",
    "layers = [1, 5, 5, 1]\n",
    "params = init_params(layers, key)\n",
    "params = [params, 1.0]\n",
    "opt_init, opt_update, get_params = optimizers.adam(1.e-4) #Original: 1.e-4\n",
    "opt_state = opt_init(params)\n",
    "params, train_loss, val_loss = train(loss, opt_state, key, nIter = 100000)"
   ]
  },
  {
   "cell_type": "code",
   "execution_count": 18,
   "metadata": {},
   "outputs": [
    {
     "data": {
      "image/png": "[encoded data removed]",
      "text/plain": [
       "<Figure size 432x288 with 1 Axes>"
      ]
     },
     "metadata": {
      "needs_background": "light"
     },
     "output_type": "display_data"
    }
   ],
   "source": [
    "from NODE_fns import NODE_vmap as NN\n",
    "from jax import grad, vmap, jit, partial, random\n",
    "key = random.PRNGKey(0)\n",
    "from jax.experimental import optimizers\n",
    "import numpy as np\n",
    "import matplotlib.pyplot as plt\n",
    "import pickle\n",
    "\n",
    "# with open('savednet/test_ghent.npy', 'rb') as f:\n",
    "#     params = pickle.load(f)\n",
    "    \n",
    "mu = 0.27812\n",
    "J = 85.2358\n",
    "I1 = np.linspace(3,50)\n",
    "pr = NN(I1-3,params[0]) + params[1]\n",
    "gt = mu/2*(J/(J-I1+3))\n",
    "\n",
    "fig, ax = plt.subplots()\n",
    "ax.plot(I1, gt, '.')\n",
    "ax.plot(I1, pr, '-')\n",
    "\n",
    "with open('savednet/test_ghent.npy', 'wb') as f:\n",
    "    pickle.dump(params, f)"
   ]
  },
  {
   "cell_type": "code",
   "execution_count": null,
   "metadata": {},
   "outputs": [],
   "source": []
  }
 ],
 "metadata": {
  "interpreter": {
   "hash": "40d3a090f54c6569ab1632332b64b2c03c39dcf918b08424e98f38b5ae0af88f"
  },
  "kernelspec": {
   "display_name": "Python 3.8.5",
   "language": "python",
   "name": "python3"
  },
  "language_info": {
   "codemirror_mode": {
    "name": "ipython",
    "version": 3
   },
   "file_extension": ".py",
   "mimetype": "text/x-python",
   "name": "python",
   "nbconvert_exporter": "python",
   "pygments_lexer": "ipython3",
   "version": "3.8.5"
  },
  "orig_nbformat": 4
 },
 "nbformat": 4,
 "nbformat_minor": 2
}
