{
 "cells": [
  {
   "cell_type": "code",
   "execution_count": 1,
   "metadata": {
    "id": "-K81jKMdefgh",
    "tags": []
   },
   "outputs": [
    {
     "name": "stderr",
     "output_type": "stream",
     "text": [
      "/opt/anaconda3/lib/python3.8/site-packages/jax/lib/xla_bridge.py:130: UserWarning: No GPU/TPU found, falling back to CPU.\n",
      "  warnings.warn('No GPU/TPU found, falling back to CPU.')\n"
     ]
    }
   ],
   "source": [
    "import jax.numpy as np\n",
    "from matplotlib import pyplot as plt\n",
    "from jax import grad, vmap, jit, partial, random\n",
    "import numpy as onp\n",
    "from jax.experimental import optimizers\n",
    "key = random.PRNGKey(0)\n",
    "import pickle\n",
    "from jax.config import config\n",
    "config.update(\"jax_enable_x64\", True)\n",
    "\n",
    "from NODE_fns import NODE_lm2sigma_vmap, init_params, node_traj"
   ]
  },
  {
   "cell_type": "code",
   "execution_count": 2,
   "metadata": {
    "tags": []
   },
   "outputs": [],
   "source": [
    "model_name = 'P12AC1_sy'\n",
    "dataset_name = 'P12AC1_sy'\n",
    "\n",
    "with open('training_data/' + dataset_name + '.npy', 'rb') as f:\n",
    "    lamb, sigma_gt = np.load(f,allow_pickle=True)\n",
    "n_data = lamb.shape[0]\n",
    "weights1 = onp.ones([n_data,1]) # Weight of the loss components. Useful sometimes.\n",
    "weights2 = onp.ones([n_data,1])\n",
    "if dataset_name == 'rubber20UT_ET_PS':\n",
    "    weights2[42:] = 0 #Ignore the loss on sigma_yy in strip-biaxial data since we don't have it.\n",
    "if dataset_name == 'rubber50UT_ET_PS':\n",
    "    weights2[33:] = 0\n",
    "sigma_gt = np.hstack((sigma_gt,weights1,weights2))"
   ]
  },
  {
   "cell_type": "code",
   "execution_count": 3,
   "metadata": {},
   "outputs": [],
   "source": [
    "#Find normalization constants\n",
    "lm1,lm2 = lamb.T\n",
    "lm3 = 1/(lm1*lm2)\n",
    "\n",
    "z = np.zeros_like(lm1)\n",
    "F = np.array([[lm1, z, z],\n",
    "              [z, lm2, z],\n",
    "              [z, z, lm3]])\n",
    "F = np.mean(F, axis=2)\n",
    "C = np.einsum('ji,jk->ik', F, F)\n",
    "Cinv = np.linalg.inv(C)\n",
    "C2 = np.einsum('ij,jk->ik', C, C)\n",
    "I1 = C[0,0] + C[1,1] + C[2,2]\n",
    "I2 = 0.5*(I1**2 - np.trace(C2))\n",
    "\n",
    "sigma = np.mean(sigma_gt, axis=0)\n",
    "sigma = np.array([[sigma[0], 0, 0],\n",
    "                  [0, sigma[1], 0],\n",
    "                  [0, 0,        0]])\n",
    "S = np.einsum('ij,jk,kl', np.linalg.inv(F), sigma, np.linalg.inv(F).T)\n",
    "\n",
    "a = np.array([[2, 2*(I1-C[0,0]), Cinv[0,0]],\n",
    "              [2, 2*(I1-C[1,1]), Cinv[1,1]],\n",
    "              [2, 2*(I1-C[2,2]), Cinv[2,2]],])\n",
    "b = np.array([S[0,0], S[1,1], S[2,2]])\n",
    "[Psi1, Psi2, p] = np.linalg.lstsq(a,b)[0]\n",
    "norm = [I1-3, I2-3, np.abs(Psi1), np.abs(Psi2)]\n",
    "norm = [1.0,1.0,1.0,1.0]"
   ]
  },
  {
   "cell_type": "code",
   "execution_count": 4,
   "metadata": {
    "id": "fze3LRWYMjou",
    "tags": []
   },
   "outputs": [],
   "source": [
    "@jit\n",
    "def loss(params, lamb, sigma_gt):\n",
    "    sigma_pr = NODE_lm2sigma_vmap(lamb, params, norm)\n",
    "    pr = sigma_pr[:,0]\n",
    "    gt = sigma_gt[:,0]\n",
    "    weight = sigma_gt[:,2] # Now I am just using this weight to accomodate the strip-bi data without sigma_yy info.\n",
    "    \n",
    "    loss_MSE1 = np.mean((pr - gt)**2*weight)\n",
    "                          \n",
    "    pr = sigma_pr[:,1]\n",
    "    gt = sigma_gt[:,1]\n",
    "    weight = sigma_gt[:,3]\n",
    "    loss_MSE2 = np.mean((pr - gt)**2*weight)\n",
    "    return  loss_MSE1 + loss_MSE2\n",
    "\n",
    "@partial(jit, static_argnums=(0,))\n",
    "def step(loss, i, opt_state, X_batch, Y_batch):\n",
    "    params = get_params(opt_state)\n",
    "    g = grad(loss)(params, X_batch, Y_batch)\n",
    "    return opt_update(i, g, opt_state)\n",
    "\n",
    "def train(loss, X, Y, opt_state, key, nIter = 10000, batch_size = 10):\n",
    "    train_loss = []\n",
    "    val_loss = []\n",
    "    for it in range(nIter):\n",
    "        key, subkey = random.split(key)\n",
    "        idx_batch = random.choice(subkey, X.shape[0], shape = (batch_size,), replace = False)\n",
    "        opt_state = step(loss, it, opt_state, X[idx_batch,:], Y[idx_batch,:])         \n",
    "        if (it+1)% 1000 == 0:\n",
    "            params = get_params(opt_state)\n",
    "            train_loss_value = loss(params, X, Y)\n",
    "            train_loss.append(train_loss_value)\n",
    "            to_print = \"it %i, train loss = %e\" % (it+1, train_loss_value)\n",
    "            print(to_print)\n",
    "    return get_params(opt_state), train_loss, val_loss"
   ]
  },
  {
   "cell_type": "code",
   "execution_count": 5,
   "metadata": {
    "colab": {
     "base_uri": "https://localhost:8080/"
    },
    "id": "3bOIkF_yNqrf",
    "outputId": "a0d3f88b-cd08-4767-9e5b-5e0beb062e69",
    "tags": []
   },
   "outputs": [],
   "source": [
    "# Initialize parameters and the optimizer\n",
    "layers = [2, 5, 5, 1]\n",
    "params = []\n",
    "for i in range(10):\n",
    "    key, subkey = random.split(key)\n",
    "    params.append(init_params(layers, key)) # 10 NNs in total\n",
    "I_weights = np.array([1.0, 1.0, 1.0, 1.0, 1.0, 1.0])\n",
    "theta = 1.0\n",
    "Psi1_bias = -3.0\n",
    "Psi2_bias = -3.0\n",
    "params.extend([I_weights, theta, Psi1_bias, Psi2_bias])\n",
    "\n",
    "opt_init, opt_update, get_params = optimizers.adam(5.e-5) #Original: 1.e-4\n",
    "opt_state = opt_init(params)"
   ]
  },
  {
   "cell_type": "code",
   "execution_count": 6,
   "metadata": {},
   "outputs": [
    {
     "name": "stderr",
     "output_type": "stream",
     "text": [
      "/opt/anaconda3/lib/python3.8/site-packages/jax/numpy/lax_numpy.py:1674: FutureWarning: jax.numpy reductions won't accept lists and tuples in future versions, only scalars and ndarrays\n",
      "  warnings.warn(msg, category=FutureWarning)\n"
     ]
    },
    {
     "name": "stdout",
     "output_type": "stream",
     "text": [
      "it 1000, train loss = 3.881142e+02\n",
      "it 2000, train loss = 3.709634e+00\n",
      "it 3000, train loss = 2.516510e+00\n",
      "it 4000, train loss = 2.157014e+00\n",
      "it 5000, train loss = 1.635494e+00\n",
      "it 6000, train loss = 9.750501e-01\n",
      "it 7000, train loss = 8.105523e-01\n",
      "it 8000, train loss = 7.369821e-01\n",
      "it 9000, train loss = 6.658425e-01\n",
      "it 10000, train loss = 5.734418e-01\n",
      "it 11000, train loss = 4.547409e-01\n",
      "it 12000, train loss = 3.216647e-01\n",
      "it 13000, train loss = 2.023445e-01\n",
      "it 14000, train loss = 1.144601e-01\n",
      "it 15000, train loss = 6.263650e-02\n",
      "it 16000, train loss = 3.418854e-02\n",
      "it 17000, train loss = 1.869997e-02\n",
      "it 18000, train loss = 1.038953e-02\n",
      "it 19000, train loss = 5.942764e-03\n",
      "it 20000, train loss = 3.559063e-03\n",
      "it 21000, train loss = 2.259431e-03\n",
      "it 22000, train loss = 1.573314e-03\n",
      "it 23000, train loss = 1.174472e-03\n",
      "it 24000, train loss = 9.429758e-04\n",
      "it 25000, train loss = 7.962052e-04\n",
      "it 26000, train loss = 6.889570e-04\n",
      "it 27000, train loss = 6.082064e-04\n",
      "it 28000, train loss = 5.433199e-04\n",
      "it 29000, train loss = 4.903041e-04\n",
      "it 30000, train loss = 4.464489e-04\n",
      "it 31000, train loss = 4.091132e-04\n",
      "it 32000, train loss = 3.734954e-04\n",
      "it 33000, train loss = 3.425601e-04\n",
      "it 34000, train loss = 3.160705e-04\n",
      "it 35000, train loss = 2.939353e-04\n",
      "it 36000, train loss = 2.685948e-04\n",
      "it 37000, train loss = 2.884124e-04\n",
      "it 38000, train loss = 2.328281e-04\n",
      "it 39000, train loss = 2.064431e-04\n",
      "it 40000, train loss = 2.000822e-04\n",
      "it 41000, train loss = 1.895570e-04\n",
      "it 42000, train loss = 1.849470e-04\n",
      "it 43000, train loss = 6.076886e-04\n",
      "it 44000, train loss = 1.580283e-04\n",
      "it 45000, train loss = 7.475540e-03\n",
      "it 46000, train loss = 1.705505e-04\n",
      "it 47000, train loss = 5.413193e-04\n",
      "it 48000, train loss = 1.406206e-04\n",
      "it 49000, train loss = 1.326215e-04\n",
      "it 50000, train loss = 1.298638e-04\n"
     ]
    }
   ],
   "source": [
    "#%%timeit -r 0 \n",
    "batch_size = np.min([100,lamb.shape[0]])\n",
    "params, train_loss, val_loss = train(loss,lamb, sigma_gt, opt_state, key, nIter = 50000, batch_size = batch_size) #Original 100000\n",
    "with open('savednet/' + model_name + '.npy', 'wb') as f:\n",
    "    pickle.dump(params, f)\n",
    "with open('savednet/' + model_name + '_norm.npy', 'wb') as f:\n",
    "    pickle.dump(norm, f)"
   ]
  },
  {
   "cell_type": "markdown",
   "metadata": {},
   "source": [
    "### Test"
   ]
  },
  {
   "cell_type": "code",
   "execution_count": 7,
   "metadata": {},
   "outputs": [
    {
     "data": {
      "text/plain": [
       "[<matplotlib.lines.Line2D at 0x7fa190c0cb20>]"
      ]
     },
     "execution_count": 7,
     "metadata": {},
     "output_type": "execute_result"
    },
    {
     "data": {
      "image/png": "[encoded data removed]",
      "text/plain": [
       "<Figure size 432x288 with 1 Axes>"
      ]
     },
     "metadata": {
      "needs_background": "light"
     },
     "output_type": "display_data"
    }
   ],
   "source": [
    "sigma_pr = NODE_lm2sigma_vmap(lamb, params, norm)\n",
    "fig, ax = plt.subplots()\n",
    "ax.plot(lamb[:,1], sigma_gt[:,0], '.')\n",
    "ax.plot(lamb[:,1], sigma_pr[:,0], '-')"
   ]
  },
  {
   "cell_type": "code",
   "execution_count": 8,
   "metadata": {},
   "outputs": [
    {
     "ename": "IndexError",
     "evalue": "Too many indices for array: 1 non-None/Ellipsis indices for dim 0.",
     "output_type": "error",
     "traceback": [
      "\u001b[0;31m---------------------------------------------------------------------------\u001b[0m",
      "\u001b[0;31mIndexError\u001b[0m                                Traceback (most recent call last)",
      "\u001b[0;32m<ipython-input-8-bcf9d8c56a9c>\u001b[0m in \u001b[0;36m<module>\u001b[0;34m\u001b[0m\n\u001b[1;32m      1\u001b[0m \u001b[0minp\u001b[0m \u001b[0;34m=\u001b[0m \u001b[0mnp\u001b[0m\u001b[0;34m.\u001b[0m\u001b[0mlinspace\u001b[0m\u001b[0;34m(\u001b[0m\u001b[0;36m0\u001b[0m\u001b[0;34m,\u001b[0m\u001b[0;36m3\u001b[0m\u001b[0;34m)\u001b[0m\u001b[0;34m\u001b[0m\u001b[0;34m\u001b[0m\u001b[0m\n\u001b[0;32m----> 2\u001b[0;31m \u001b[0mout\u001b[0m \u001b[0;34m=\u001b[0m \u001b[0mnode_traj\u001b[0m\u001b[0;34m(\u001b[0m\u001b[0mparams\u001b[0m\u001b[0;34m[\u001b[0m\u001b[0;36m0\u001b[0m\u001b[0;34m]\u001b[0m\u001b[0;34m,\u001b[0m\u001b[0minp\u001b[0m\u001b[0;34m)\u001b[0m\u001b[0;34m\u001b[0m\u001b[0;34m\u001b[0m\u001b[0m\n\u001b[0m",
      "\u001b[0;32m~/Library/CloudStorage/OneDrive-purdue.edu/Research/node_kuhl/NODE_fns.py\u001b[0m in \u001b[0;36mnode_traj\u001b[0;34m(params, inp)\u001b[0m\n\u001b[1;32m    120\u001b[0m     \u001b[0mout\u001b[0m \u001b[0;34m=\u001b[0m \u001b[0;34m[\u001b[0m\u001b[0;34m]\u001b[0m\u001b[0;34m\u001b[0m\u001b[0;34m\u001b[0m\u001b[0m\n\u001b[1;32m    121\u001b[0m     \u001b[0;32mfor\u001b[0m \u001b[0mi\u001b[0m \u001b[0;32min\u001b[0m \u001b[0mrange\u001b[0m\u001b[0;34m(\u001b[0m\u001b[0minp\u001b[0m\u001b[0;34m.\u001b[0m\u001b[0mshape\u001b[0m\u001b[0;34m[\u001b[0m\u001b[0;36m0\u001b[0m\u001b[0;34m]\u001b[0m\u001b[0;34m)\u001b[0m\u001b[0;34m:\u001b[0m\u001b[0;34m\u001b[0m\u001b[0;34m\u001b[0m\u001b[0m\n\u001b[0;32m--> 122\u001b[0;31m         \u001b[0mout\u001b[0m\u001b[0;34m.\u001b[0m\u001b[0mappend\u001b[0m\u001b[0;34m(\u001b[0m\u001b[0mNODE\u001b[0m\u001b[0;34m(\u001b[0m\u001b[0minp\u001b[0m\u001b[0;34m[\u001b[0m\u001b[0mi\u001b[0m\u001b[0;34m]\u001b[0m\u001b[0;34m[\u001b[0m\u001b[0;36m1\u001b[0m\u001b[0;34m]\u001b[0m\u001b[0;34m)\u001b[0m\u001b[0;34m,\u001b[0m \u001b[0mparams\u001b[0m\u001b[0;34m)\u001b[0m\u001b[0;34m\u001b[0m\u001b[0;34m\u001b[0m\u001b[0m\n\u001b[0m\u001b[1;32m    123\u001b[0m     \u001b[0;32mreturn\u001b[0m \u001b[0mout\u001b[0m\u001b[0;34m\u001b[0m\u001b[0;34m\u001b[0m\u001b[0m\n",
      "\u001b[0;32m/opt/anaconda3/lib/python3.8/site-packages/jax/numpy/lax_numpy.py\u001b[0m in \u001b[0;36m_rewriting_take\u001b[0;34m(arr, idx)\u001b[0m\n\u001b[1;32m   3646\u001b[0m   \u001b[0marr\u001b[0m \u001b[0;34m=\u001b[0m \u001b[0masarray\u001b[0m\u001b[0;34m(\u001b[0m\u001b[0marr\u001b[0m\u001b[0;34m)\u001b[0m\u001b[0;34m\u001b[0m\u001b[0;34m\u001b[0m\u001b[0m\n\u001b[1;32m   3647\u001b[0m   \u001b[0mtreedef\u001b[0m\u001b[0;34m,\u001b[0m \u001b[0mstatic_idx\u001b[0m\u001b[0;34m,\u001b[0m \u001b[0mdynamic_idx\u001b[0m \u001b[0;34m=\u001b[0m \u001b[0m_split_index_for_jit\u001b[0m\u001b[0;34m(\u001b[0m\u001b[0midx\u001b[0m\u001b[0;34m)\u001b[0m\u001b[0;34m\u001b[0m\u001b[0;34m\u001b[0m\u001b[0m\n\u001b[0;32m-> 3648\u001b[0;31m   \u001b[0;32mreturn\u001b[0m \u001b[0m_gather\u001b[0m\u001b[0;34m(\u001b[0m\u001b[0marr\u001b[0m\u001b[0;34m,\u001b[0m \u001b[0mtreedef\u001b[0m\u001b[0;34m,\u001b[0m \u001b[0mstatic_idx\u001b[0m\u001b[0;34m,\u001b[0m \u001b[0mdynamic_idx\u001b[0m\u001b[0;34m)\u001b[0m\u001b[0;34m\u001b[0m\u001b[0;34m\u001b[0m\u001b[0m\n\u001b[0m\u001b[1;32m   3649\u001b[0m \u001b[0;34m\u001b[0m\u001b[0m\n\u001b[1;32m   3650\u001b[0m \u001b[0;31m# TODO(phawkins): re-enable jit after fixing excessive recompilation for\u001b[0m\u001b[0;34m\u001b[0m\u001b[0;34m\u001b[0m\u001b[0;34m\u001b[0m\u001b[0m\n",
      "\u001b[0;32m/opt/anaconda3/lib/python3.8/site-packages/jax/numpy/lax_numpy.py\u001b[0m in \u001b[0;36m_gather\u001b[0;34m(arr, treedef, static_idx, dynamic_idx)\u001b[0m\n\u001b[1;32m   3653\u001b[0m \u001b[0;32mdef\u001b[0m \u001b[0m_gather\u001b[0m\u001b[0;34m(\u001b[0m\u001b[0marr\u001b[0m\u001b[0;34m,\u001b[0m \u001b[0mtreedef\u001b[0m\u001b[0;34m,\u001b[0m \u001b[0mstatic_idx\u001b[0m\u001b[0;34m,\u001b[0m \u001b[0mdynamic_idx\u001b[0m\u001b[0;34m)\u001b[0m\u001b[0;34m:\u001b[0m\u001b[0;34m\u001b[0m\u001b[0;34m\u001b[0m\u001b[0m\n\u001b[1;32m   3654\u001b[0m   \u001b[0midx\u001b[0m \u001b[0;34m=\u001b[0m \u001b[0m_merge_static_and_dynamic_indices\u001b[0m\u001b[0;34m(\u001b[0m\u001b[0mtreedef\u001b[0m\u001b[0;34m,\u001b[0m \u001b[0mstatic_idx\u001b[0m\u001b[0;34m,\u001b[0m \u001b[0mdynamic_idx\u001b[0m\u001b[0;34m)\u001b[0m\u001b[0;34m\u001b[0m\u001b[0;34m\u001b[0m\u001b[0m\n\u001b[0;32m-> 3655\u001b[0;31m   \u001b[0mindexer\u001b[0m \u001b[0;34m=\u001b[0m \u001b[0m_index_to_gather\u001b[0m\u001b[0;34m(\u001b[0m\u001b[0mshape\u001b[0m\u001b[0;34m(\u001b[0m\u001b[0marr\u001b[0m\u001b[0;34m)\u001b[0m\u001b[0;34m,\u001b[0m \u001b[0midx\u001b[0m\u001b[0;34m)\u001b[0m  \u001b[0;31m# shared with _scatter_update\u001b[0m\u001b[0;34m\u001b[0m\u001b[0;34m\u001b[0m\u001b[0m\n\u001b[0m\u001b[1;32m   3656\u001b[0m   \u001b[0my\u001b[0m \u001b[0;34m=\u001b[0m \u001b[0marr\u001b[0m\u001b[0;34m\u001b[0m\u001b[0;34m\u001b[0m\u001b[0m\n\u001b[1;32m   3657\u001b[0m \u001b[0;34m\u001b[0m\u001b[0m\n",
      "\u001b[0;32m/opt/anaconda3/lib/python3.8/site-packages/jax/numpy/lax_numpy.py\u001b[0m in \u001b[0;36m_index_to_gather\u001b[0;34m(x_shape, idx)\u001b[0m\n\u001b[1;32m   3737\u001b[0m \u001b[0;32mdef\u001b[0m \u001b[0m_index_to_gather\u001b[0m\u001b[0;34m(\u001b[0m\u001b[0mx_shape\u001b[0m\u001b[0;34m,\u001b[0m \u001b[0midx\u001b[0m\u001b[0;34m)\u001b[0m\u001b[0;34m:\u001b[0m\u001b[0;34m\u001b[0m\u001b[0;34m\u001b[0m\u001b[0m\n\u001b[1;32m   3738\u001b[0m   \u001b[0;31m# Remove ellipses and add trailing slice(None)s.\u001b[0m\u001b[0;34m\u001b[0m\u001b[0;34m\u001b[0m\u001b[0;34m\u001b[0m\u001b[0m\n\u001b[0;32m-> 3739\u001b[0;31m   \u001b[0midx\u001b[0m \u001b[0;34m=\u001b[0m \u001b[0m_canonicalize_tuple_index\u001b[0m\u001b[0;34m(\u001b[0m\u001b[0mlen\u001b[0m\u001b[0;34m(\u001b[0m\u001b[0mx_shape\u001b[0m\u001b[0;34m)\u001b[0m\u001b[0;34m,\u001b[0m \u001b[0midx\u001b[0m\u001b[0;34m)\u001b[0m\u001b[0;34m\u001b[0m\u001b[0;34m\u001b[0m\u001b[0m\n\u001b[0m\u001b[1;32m   3740\u001b[0m \u001b[0;34m\u001b[0m\u001b[0m\n\u001b[1;32m   3741\u001b[0m   \u001b[0;31m# Check for advanced indexing:\u001b[0m\u001b[0;34m\u001b[0m\u001b[0;34m\u001b[0m\u001b[0;34m\u001b[0m\u001b[0m\n",
      "\u001b[0;32m/opt/anaconda3/lib/python3.8/site-packages/jax/numpy/lax_numpy.py\u001b[0m in \u001b[0;36m_canonicalize_tuple_index\u001b[0;34m(arr_ndim, idx)\u001b[0m\n\u001b[1;32m   3999\u001b[0m   \u001b[0;32mif\u001b[0m \u001b[0mlen_without_none\u001b[0m \u001b[0;34m>\u001b[0m \u001b[0marr_ndim\u001b[0m\u001b[0;34m:\u001b[0m\u001b[0;34m\u001b[0m\u001b[0;34m\u001b[0m\u001b[0m\n\u001b[1;32m   4000\u001b[0m     \u001b[0mmsg\u001b[0m \u001b[0;34m=\u001b[0m \u001b[0;34m\"Too many indices for array: {} non-None/Ellipsis indices for dim {}.\"\u001b[0m\u001b[0;34m\u001b[0m\u001b[0;34m\u001b[0m\u001b[0m\n\u001b[0;32m-> 4001\u001b[0;31m     \u001b[0;32mraise\u001b[0m \u001b[0mIndexError\u001b[0m\u001b[0;34m(\u001b[0m\u001b[0mmsg\u001b[0m\u001b[0;34m.\u001b[0m\u001b[0mformat\u001b[0m\u001b[0;34m(\u001b[0m\u001b[0mlen_without_none\u001b[0m\u001b[0;34m,\u001b[0m \u001b[0marr_ndim\u001b[0m\u001b[0;34m)\u001b[0m\u001b[0;34m)\u001b[0m\u001b[0;34m\u001b[0m\u001b[0;34m\u001b[0m\u001b[0m\n\u001b[0m\u001b[1;32m   4002\u001b[0m   \u001b[0mellipses\u001b[0m \u001b[0;34m=\u001b[0m \u001b[0;34m(\u001b[0m\u001b[0mi\u001b[0m \u001b[0;32mfor\u001b[0m \u001b[0mi\u001b[0m\u001b[0;34m,\u001b[0m \u001b[0melt\u001b[0m \u001b[0;32min\u001b[0m \u001b[0menumerate\u001b[0m\u001b[0;34m(\u001b[0m\u001b[0midx\u001b[0m\u001b[0;34m)\u001b[0m \u001b[0;32mif\u001b[0m \u001b[0melt\u001b[0m \u001b[0;32mis\u001b[0m \u001b[0mEllipsis\u001b[0m\u001b[0;34m)\u001b[0m\u001b[0;34m\u001b[0m\u001b[0;34m\u001b[0m\u001b[0m\n\u001b[1;32m   4003\u001b[0m   \u001b[0mellipsis_index\u001b[0m \u001b[0;34m=\u001b[0m \u001b[0mnext\u001b[0m\u001b[0;34m(\u001b[0m\u001b[0mellipses\u001b[0m\u001b[0;34m,\u001b[0m \u001b[0;32mNone\u001b[0m\u001b[0;34m)\u001b[0m\u001b[0;34m\u001b[0m\u001b[0;34m\u001b[0m\u001b[0m\n",
      "\u001b[0;31mIndexError\u001b[0m: Too many indices for array: 1 non-None/Ellipsis indices for dim 0."
     ]
    }
   ],
   "source": [
    "inp = np.linspace(0,3)\n",
    "out = node_traj(params[0],inp)"
   ]
  },
  {
   "cell_type": "code",
   "execution_count": null,
   "metadata": {},
   "outputs": [],
   "source": []
  }
 ],
 "metadata": {
  "accelerator": "GPU",
  "colab": {
   "collapsed_sections": [],
   "name": "Constitutive_NeuralODE.ipynb",
   "provenance": []
  },
  "interpreter": {
   "hash": "40d3a090f54c6569ab1632332b64b2c03c39dcf918b08424e98f38b5ae0af88f"
  },
  "kernelspec": {
   "display_name": "Python 3.8.5",
   "language": "python",
   "name": "python3"
  },
  "language_info": {
   "codemirror_mode": {
    "name": "ipython",
    "version": 3
   },
   "file_extension": ".py",
   "mimetype": "text/x-python",
   "name": "python",
   "nbconvert_exporter": "python",
   "pygments_lexer": "ipython3",
   "version": "3.8.5"
  }
 },
 "nbformat": 4,
 "nbformat_minor": 4
}
