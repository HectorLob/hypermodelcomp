{
 "cells": [
  {
   "cell_type": "code",
   "execution_count": 1,
   "metadata": {},
   "outputs": [
    {
     "name": "stderr",
     "output_type": "stream",
     "text": [
      "/opt/anaconda3/lib/python3.8/site-packages/jax/lib/xla_bridge.py:130: UserWarning: No GPU/TPU found, falling back to CPU.\n",
      "  warnings.warn('No GPU/TPU found, falling back to CPU.')\n"
     ]
    },
    {
     "data": {
      "text/plain": [
       "'%.5f'"
      ]
     },
     "execution_count": 1,
     "metadata": {},
     "output_type": "execute_result"
    }
   ],
   "source": [
    "import numpy as np\n",
    "import jax.numpy as jnp\n",
    "import jax\n",
    "from jax import grad, vmap, jit, partial, random, jacrev\n",
    "from jax.experimental.ode import odeint\n",
    "from jax.experimental import optimizers\n",
    "from jax.scipy.optimize import minimize\n",
    "import matplotlib\n",
    "import matplotlib.pyplot as plt\n",
    "import matplotlib.tri as mtri\n",
    "from matplotlib.patches import Polygon\n",
    "from matplotlib.collections import PatchCollection\n",
    "key = random.PRNGKey(0)\n",
    "import pickle\n",
    "%matplotlib inline \n",
    "%precision 5"
   ]
  },
  {
   "cell_type": "markdown",
   "metadata": {},
   "source": [
    "# Neural ODE"
   ]
  },
  {
   "cell_type": "code",
   "execution_count": 2,
   "metadata": {},
   "outputs": [],
   "source": [
    "#Load the NN\n",
    "model_name = 'nobias_P1C1_xys_test'\n",
    "with open('savednet/' + model_name + '.npy', 'rb') as f:\n",
    "    params = pickle.load(f)\n",
    "W1_params, W2_params, W4a_params, W4s_params = params\n",
    "\n",
    "@jit\n",
    "def forward_pass(H, Ws):#params):\n",
    "  #Ws = params[0]\n",
    "  #bs = params[1]\n",
    "  N_layers = len(Ws)\n",
    "  for i in range(N_layers - 1):\n",
    "    H = jnp.matmul(H, Ws[i])# + bs[i]\n",
    "    H = jnp.tanh(H)\n",
    "  Y = jnp.matmul(H, Ws[-1])# + bs[-1]\n",
    "  return Y\n",
    "\n",
    "@jit\n",
    "def ODEforward_pass(y0, params):\n",
    "    f = lambda y, t: forward_pass(jnp.array([y]),params) # fake time argument for ODEint\n",
    "    return odeint(f, y0, jnp.array([0.0,1.0]))[-1] # integrate between 0 and 1 and return the results at 1\n",
    "\n",
    "#@partial(jit, static_argnums=(1,2,3))\n",
    "@jit\n",
    "def sig(F_2D):\n",
    "    C_2D = jnp.dot(F_2D.T, F_2D)\n",
    "    SS = S(C_2D)\n",
    "    return jnp.einsum('ij,jk,kl->il', F_2D, SS, F_2D.T)\n",
    "sig_vmap = vmap(sig, in_axes=0, out_axes=0)\n",
    "#@partial(jit, static_argnums=(1,2,3))\n",
    "@jit\n",
    "def S(C_2D):\n",
    "#     a0 = jnp.array([1.0,0.0])\n",
    "#     s0 = jnp.array([0.0,1.0])\n",
    "#     A0 = jnp.outer(a0, a0)\n",
    "#     S0 = jnp.outer(s0, s0)\n",
    "    a0 = jnp.array([1.0,0.0,0.0])\n",
    "    s0 = jnp.array([0.0,1.0,0.0])\n",
    "    A0 = jnp.outer(a0, a0)\n",
    "    S0 = jnp.outer(s0, s0)\n",
    "    detC_2D = jnp.linalg.det(C_2D)\n",
    "    C_3D = jnp.array([[C_2D[0,0], C_2D[0,1], 0],\\\n",
    "                      [C_2D[1,0], C_2D[1,1], 0],\\\n",
    "                      [0,         0, 1/detC_2D]])\n",
    "    I1 = jnp.trace(C_3D)\n",
    "    I2 = 0.5*(I1**2 - jnp.trace(C_3D**2))\n",
    "#     I4a = jnp.einsum('ij,ij',C_2D,A0)\n",
    "#     I4s = jnp.einsum('ij,ij',C_2D,S0)\n",
    "    I4a = jnp.einsum('ij,ij',C_3D,A0)\n",
    "    I4s = jnp.einsum('ij,ij',C_3D,S0)\n",
    "    Cinv_2D = jnp.linalg.inv(C_2D)\n",
    "    Cinv_3D = jnp.linalg.inv(C_3D)\n",
    "    \n",
    "    dWdI1  = ODEforward_pass(I1-3,   W1_params)\n",
    "    dWdI2  = ODEforward_pass(I2-3,   W2_params)\n",
    "    dWdI4a = ODEforward_pass(I4a-1, W4a_params)\n",
    "    dWdI4s = ODEforward_pass(I4s-1, W4s_params)\n",
    "    \n",
    "    p = -C_3D[2,2]*(dWdI1 + dWdI2*(I1 - C_3D[2,2]))\n",
    "    S = dWdI1*jnp.eye(3) + dWdI2*(I1*jnp.eye(3)-C_3D) + dWdI4a*A0 + dWdI4s*S0 + p*Cinv_3D\n",
    "    #return dWdI1*jnp.eye(2) + dWdI2*(I1*jnp.eye(2) - C_2D) + dWdI4a*A0 + dWdI4s*S0 + p*Cinv_2D\n",
    "    return S[:2,:2]\n",
    "S_vmap = vmap(S, in_axes=0, out_axes=0)"
   ]
  },
  {
   "cell_type": "markdown",
   "metadata": {},
   "source": [
    "#### Numerically estimate the elasticity tensor, $\\mathbb{C}$, for the time being"
   ]
  },
  {
   "cell_type": "code",
   "execution_count": 3,
   "metadata": {},
   "outputs": [],
   "source": [
    "#Method 1: Manual numerical differentiation\n",
    "def eval_dSdC(C_2D, funcS):\n",
    "    dSdC = np.zeros([2,2,2,2])\n",
    "    epsilon = 1.e-3\n",
    "    \n",
    "    for i in range(2):\n",
    "        for j in range(2):\n",
    "            C_p = np.array(C_2D)\n",
    "            C_m = np.array(C_2D)\n",
    "            C_p[i,j]+= epsilon\n",
    "            C_p[j,i]+= epsilon\n",
    "            C_m[i,j]-= epsilon\n",
    "            C_m[j,i]-= epsilon\n",
    "            \n",
    "            S_p = funcS(C_p)\n",
    "            S_m = funcS(C_m)\n",
    "            \n",
    "            dSdC[:,:,i,j] = (S_p-S_m)/(4*epsilon)\n",
    "    return dSdC\n",
    "#Method 2: Automatic differentiation with Jax\n",
    "jdSdC = jacrev(S)\n",
    "#I have confirmed that the two methods above work the same."
   ]
  },
  {
   "cell_type": "code",
   "execution_count": 4,
   "metadata": {},
   "outputs": [],
   "source": [
    "#Method 3: Analytical calculation\n",
    "def eval_CC(C_2D):\n",
    "    pass\n"
   ]
  },
  {
   "cell_type": "markdown",
   "metadata": {},
   "source": [
    "# Finite Element Method"
   ]
  },
  {
   "cell_type": "code",
   "execution_count": 5,
   "metadata": {
    "tags": []
   },
   "outputs": [],
   "source": [
    "#Generate nodes and elements\n",
    "n_node = 100\n",
    "n_elem = n_node-19\n",
    "node_X, node_Y = np.meshgrid(np.linspace(0,1,10),np.linspace(0,1,10))\n",
    "node_X = np.vstack((node_Y.flatten(), node_X.flatten())).T\n",
    "\n",
    "elements = np.zeros((n_elem, 4), dtype=np.int8)\n",
    "\n",
    "i=0\n",
    "j=0\n",
    "while i < n_node - 11:\n",
    "    if i == 0 or (i+1)%10 != 0:\n",
    "        elements[j,0] = i\n",
    "        elements[j,3] = i+1\n",
    "        elements[j,2] = i+11\n",
    "        elements[j,1] = i+10\n",
    "        j+= 1\n",
    "    i+= 1"
   ]
  },
  {
   "cell_type": "code",
   "execution_count": 6,
   "metadata": {
    "tags": []
   },
   "outputs": [
    {
     "data": {
      "text/plain": [
       "Text(0.5, 1.0, 'Undeformed Mesh')"
      ]
     },
     "execution_count": 6,
     "metadata": {},
     "output_type": "execute_result"
    },
    {
     "data": {
      "image/png": "[encoded data removed]",
      "text/plain": [
       "<Figure size 720x720 with 1 Axes>"
      ]
     },
     "metadata": {
      "needs_background": "light"
     },
     "output_type": "display_data"
    }
   ],
   "source": [
    "# plot mesh to check\n",
    "## Plot the mesh \n",
    "fig, ax = plt.subplots(figsize=(10,10))\n",
    "ax.set_xlim([-0.1, 1.1])\n",
    "ax.set_ylim([-0.1, 1.1])\n",
    "ax.set_aspect('equal')\n",
    "patches = []\n",
    "#viridis = matplotlib.cm.get_cmap('viridis', 50)\n",
    "colors = np.zeros((n_elem))\n",
    "for i in range(n_elem):\n",
    "    n1 = elements[i,0]\n",
    "    n2 = elements[i,1]\n",
    "    n3 = elements[i,2]\n",
    "    n4 = elements[i,3]\n",
    "    polygon = Polygon([node_X[n1],node_X[n2],node_X[n3],node_X[n4]], edgecolor='r',closed=True)\n",
    "    patches.append(polygon)\n",
    "    colors[i] = np.random.rand()\n",
    "p = PatchCollection(patches)\n",
    "p.set_array(colors)\n",
    "ax.add_collection(p)\n",
    "ax.set_title(\"Undeformed Mesh\")"
   ]
  },
  {
   "cell_type": "code",
   "execution_count": 7,
   "metadata": {
    "tags": []
   },
   "outputs": [],
   "source": [
    "# Shape functions and derivatives \n",
    "\n",
    "def Nvec(xi,eta):\n",
    "    return 0.25*np.array([(1-xi)*(1-eta),(1+xi)*(1-eta),(1+xi)*(1+eta),(1-xi)*(1+eta)])\n",
    "\n",
    "def dNvecdxi(xi,eta):\n",
    "    return 0.25*np.array([[(-1)*(1-eta),(+1)*(1-eta),(+1)*(1+eta),(-1)*(1+eta)],\\\n",
    "                          [(1-xi)*(-1),(1+xi)*(-1),(1+xi)*(+1),(1-xi)*(+1)]])"
   ]
  },
  {
   "cell_type": "code",
   "execution_count": 8,
   "metadata": {
    "tags": []
   },
   "outputs": [],
   "source": [
    "## Vahid: create DOF map (In this case shearing)\n",
    "node_x = np.zeros_like(node_X)#np.zeros(node_X.shape)\n",
    "DOF_fmap = np.zeros((n_node,2),dtype=int)\n",
    "DOF_imap = [] \n",
    "dof = 0\n",
    "for i in range(n_node):\n",
    "    X = node_X[i]\n",
    "    node_x[i] = node_X[i]\n",
    "    if X[0]<0.001:\n",
    "        DOF_fmap[i,0] = -1\n",
    "        node_x[i,0] = 0\n",
    "        if X[1] < 0.001:\n",
    "            DOF_fmap[i,1] = -1\n",
    "            node_x[i,1] = 0\n",
    "        else:\n",
    "            DOF_fmap[i,1] = dof\n",
    "            DOF_imap.append([i,0])\n",
    "            dof+= 1\n",
    "    elif X[0]>0.999:\n",
    "        DOF_fmap[i,0] = -1\n",
    "        node_x[i,0] = 1.1\n",
    "        DOF_fmap[i,1] = -1\n",
    "        node_x[i,1] = node_x[i,1] + 0.1\n",
    "    else:\n",
    "        DOF_fmap[i,0] = dof\n",
    "        DOF_fmap[i,1] = dof+1\n",
    "        dof+=2 \n",
    "        DOF_imap.append([i,0])\n",
    "        DOF_imap.append([i,1])"
   ]
  },
  {
   "cell_type": "code",
   "execution_count": 9,
   "metadata": {
    "tags": []
   },
   "outputs": [
    {
     "data": {
      "text/plain": [
       "Text(0.5, 1.0, 'Deformed Mesh (Before Analysis)')"
      ]
     },
     "execution_count": 9,
     "metadata": {},
     "output_type": "execute_result"
    },
    {
     "data": {
      "image/png": "[encoded data removed]",
      "text/plain": [
       "<Figure size 720x720 with 1 Axes>"
      ]
     },
     "metadata": {
      "needs_background": "light"
     },
     "output_type": "display_data"
    }
   ],
   "source": [
    "## Plot the deformed mesh \n",
    "fig, ax = plt.subplots(figsize=(10,10))\n",
    "ax.set_xlim([-0.1, 1.5])\n",
    "ax.set_ylim([-0.1, 1.1])\n",
    "ax.set_aspect('equal')\n",
    "patches = []\n",
    "#viridis = matplotlib.cm.get_cmap('viridis', 50)\n",
    "colors = np.zeros((n_elem))\n",
    "for i in range(n_elem):\n",
    "    n1 = elements[i,0]\n",
    "    n2 = elements[i,1]\n",
    "    n3 = elements[i,2]\n",
    "    n4 = elements[i,3]\n",
    "    polygon = Polygon([node_x[n1],node_x[n2],node_x[n3],node_x[n4]], closed=True)\n",
    "    patches.append(polygon)\n",
    "    colors[i] = np.random.rand()\n",
    "p = PatchCollection(patches)\n",
    "p.set_array(colors)\n",
    "ax.add_collection(p)\n",
    "ax.set_title(\"Deformed Mesh (Before Analysis)\")"
   ]
  },
  {
   "cell_type": "markdown",
   "metadata": {},
   "source": [
    "## Compute the element residual and tangent and assemble into global residual and tangent\n",
    "\n"
   ]
  },
  {
   "cell_type": "code",
   "execution_count": 10,
   "metadata": {},
   "outputs": [],
   "source": [
    "# putting it inside a function\n",
    "def assembleRRKK():\n",
    "    # assemble total residual \n",
    "    RR = np.zeros(n_node*2)\n",
    "    # assemble the total tangent \n",
    "    KK = np.zeros((n_node*2,n_node*2))\n",
    "    # loop over elements\n",
    "    for ei in range(n_elem):\n",
    "        # initialize the residual for this element\n",
    "        Re = np.zeros((8))\n",
    "        # initialize the tangent for this element\n",
    "        Ke = np.zeros((8,8))\n",
    "\n",
    "        # nodes that make up this element \n",
    "        node_ei = elements[ei]\n",
    "        # reference coordinates of the nodes making up this element (init to zero, fill in a loop)\n",
    "        node_X_ei = np.zeros((4,2))\n",
    "        # deformed coordinates of the nodes making up this element (init to zero, fill in a loop)\n",
    "        node_x_ei = np.zeros((4,2))\n",
    "        for ni in range(4):\n",
    "            node_X_ei[ni] = node_X[node_ei[ni]]\n",
    "            node_x_ei[ni] = node_x[node_ei[ni]]\n",
    "            \n",
    "        #print(node_x_ei)\n",
    "        # also, do a proper integration with four integration points \n",
    "        # Loop over integration points\n",
    "        # location and weight of integration points \n",
    "        IP_xi = np.array([[-1./np.sqrt(3),-1./np.sqrt(3)],[+1./np.sqrt(3),-1./np.sqrt(3)],\\\n",
    "                          [+1./np.sqrt(3),+1./np.sqrt(3)],[-1./np.sqrt(3),+1./np.sqrt(3)]])\n",
    "        IP_wi = np.array([1.,1.,1.,1.])\n",
    "        for ip in range(4):\n",
    "            xi  = IP_xi[ip,0]\n",
    "            eta = IP_xi[ip,1]\n",
    "            wi = IP_wi[ip]\n",
    "            # eval shape functions \n",
    "            Ns = Nvec(xi,eta)\n",
    "            # eval the isoparametric map for the reference and deformed points corresponding to xi,eta = 0\n",
    "            X = np.zeros((2))\n",
    "            x = np.zeros((2))\n",
    "            for ni in range(4):\n",
    "                X += Ns[ni]*node_X_ei[ni]\n",
    "                x += Ns[ni]*node_x_ei[ni]\n",
    "\n",
    "            # evaluate the Jacobians, first derivative of shape functions with respect to xi space then Jacobians \n",
    "            dNsdxi = dNvecdxi(xi,eta)\n",
    "            dXdxi = np.zeros((2,2))\n",
    "            dxdxi = np.zeros((2,2))\n",
    "            for ni in range(4):\n",
    "                dXdxi += np.outer(node_X_ei[ni],dNsdxi[:,ni])\n",
    "                dxdxi += np.outer(node_x_ei[ni],dNsdxi[:,ni])\n",
    "            # get gradient of basis function with respect to X using inverse jacobian \n",
    "            JinvT = np.linalg.inv(dXdxi).transpose()\n",
    "            dNsdX = np.dot(JinvT,dNsdxi)\n",
    "\n",
    "            # get gradient of basis function with respect to x using inverse jacobian, the other one \n",
    "            jinvT = np.linalg.inv(dxdxi).transpose()\n",
    "            dNsdx = np.dot(jinvT,dNsdxi)\n",
    "\n",
    "            # get the deformation gradient \n",
    "            F = np.zeros((2,2))\n",
    "            for ni in range(4):\n",
    "                F += np.outer(node_x_ei[ni],dNsdX[:,ni])\n",
    "            # compute the stress\n",
    "            detF = np.linalg.det(F)\n",
    "            b = np.dot(F,F.transpose())\n",
    "            C = np.dot(F.transpose(),F)\n",
    "            c1 = 1.0 \n",
    "            p = 2*c1/(detF*detF)\n",
    "            \n",
    "            ################ Stress ####################\n",
    "            #sigma = -p*np.eye(2) + 2*c1*b #Original\n",
    "\n",
    "            sigma = sig(F)\n",
    "            \n",
    "            # compute the variation of the symmetric velocity gradient by moving one node and one component\n",
    "            # of that node at a time, except if the node is on the boundary in which case no variation is allowed\n",
    "            for ni in range(4):\n",
    "                for ci in range(2):\n",
    "                    deltav = np.zeros((2))\n",
    "                    # note, no worries about the boundary because we will get rid of the corresponding rows\n",
    "                    # of the residual because they wont be zero \n",
    "                    deltav[ci] = 1\n",
    "                    gradx_v = np.outer(deltav,dNsdx[:,ni])\n",
    "                    deltad = 0.5*(gradx_v + gradx_v.transpose())\n",
    "                    Re[ni*2+ci] += wi*np.linalg.det(dxdxi)*np.tensordot(sigma,deltad)\n",
    "\n",
    "                    RR[node_ei[ni]*2+ci] += wi*np.linalg.det(dxdxi)*np.tensordot(sigma,deltad)\n",
    "                    \n",
    "                    ## 2 more for loops for the increment Delta u\n",
    "                    for nj in range(4):\n",
    "                        for cj in range(2):\n",
    "                            Deltau = np.zeros((2))\n",
    "                            Deltau[cj]=1\n",
    "                            gradx_Du = np.outer(Deltau,dNsdx[:,nj])\n",
    "                            Deltaeps = 0.5*(gradx_Du + gradx_Du.transpose())\n",
    "                            \n",
    "                            ## ELEMENT TANGENT\n",
    "                            # Initial stress component (also called geometric component) is \n",
    "                            # sigma: (gradDeltau^T gradv)\n",
    "                            Kgeom = np.tensordot(sigma,np.dot(gradx_Du.transpose(),gradx_v))\n",
    "                            # Material component, need to put things in voigt notation for easy computation\n",
    "                            deltad_voigt = np.array([deltad[0,0],deltad[1,1],2*deltad[0,1]])\n",
    "                            Deltaeps_voigt = np.array([Deltaeps[0,0],Deltaeps[1,1],2*Deltaeps[0,1]])\n",
    "                            \n",
    "                            \n",
    "                            ################ Elastic Moduli ####################\n",
    "                            CC = 2*eval_dSdC(C, S)\n",
    "#                             CC = 2*jdSdC(C) #Don't use this, doesn't work.\n",
    "#                             CC = (CC + np.transpose(CC, axes=[0,1,3,2]))/2 #jdSdC does not have minor symmetry, so impose it manually.\n",
    "                            cc = np.einsum('ij,kl,mn,op,jlnp->ikmo', F, F, F, F, CC)\n",
    "                            #D == cc_voigt\n",
    "                            D = np.zeros((3,3))\n",
    "                            Itoi = [0,1,0]\n",
    "                            Itoj = [0,1,1]\n",
    "                            for I in range(3):\n",
    "                                for J in range(3):\n",
    "                                    i = Itoi[I]\n",
    "                                    j = Itoj[I]\n",
    "                                    k = Itoi[J]\n",
    "                                    l = Itoj[J]\n",
    "                                    D[I,J] = cc[i,j,k,l] #D: cc in voigt notation\n",
    "                            \n",
    "                            #D = np.array([[4*p,2*p,0],[2*p,4*p,0],[0,0,2*p]])\n",
    "                            Kmat = np.dot(Deltaeps_voigt,np.dot(D,deltad_voigt))\n",
    "                            # add to the corresponding entry in Ke and dont forget other parts of integral\n",
    "                            Ke[ni*2+ci,nj*2+cj] += wi*np.linalg.det(dxdxi)*(Kgeom+Kmat)\n",
    "                            # assemble into global \n",
    "                            KK[node_ei[ni]*2+ci,node_ei[nj]*2+cj] += wi*np.linalg.det(dxdxi)*(Kgeom+Kmat)\n",
    "#         print(F)\n",
    "#         print(D)\n",
    "#         print(sigma)\n",
    "#         print('--------')\n",
    "                            \n",
    "    return RR,KK\n",
    "                            \n",
    "        "
   ]
  },
  {
   "cell_type": "code",
   "execution_count": 11,
   "metadata": {},
   "outputs": [],
   "source": [
    "def plot_stress():\n",
    "    ## Plot the deformed mesh, evaluate the stress at the center\n",
    "    fig, ax = plt.subplots(1, 2, figsize=(20,10))\n",
    "    ax[0].set_xlim([-0.1, 1.3])\n",
    "    ax[0].set_ylim([-0.1, 1.3])\n",
    "    ax[0].set_aspect('equal')\n",
    "    \n",
    "    ax[1].set_xlim([-0.1, 1.3])\n",
    "    ax[1].set_ylim([-0.1, 1.3])\n",
    "    ax[1].set_aspect('equal')\n",
    "    patches = []\n",
    "    #viridis = matplotlib.cm.get_cmap('viridis', 50)\n",
    "    colors1 = np.zeros((n_elem))\n",
    "    colors2 = np.zeros((n_elem))\n",
    "    \n",
    "    for i in range(n_elem):\n",
    "        n1 = elements[i,0]\n",
    "        n2 = elements[i,1]\n",
    "        n3 = elements[i,2]\n",
    "        n4 = elements[i,3]\n",
    "        polygon = Polygon([node_x[n1],node_x[n2],node_x[n3],node_x[n4]], closed=True)\n",
    "        patches.append(polygon)\n",
    "        # compute stress at center \n",
    "        xi  = 0\n",
    "        eta = 0\n",
    "        # eval shape functions \n",
    "        Ns = Nvec(xi,eta)\n",
    "        # eval the isoparametric map \n",
    "        X = Ns[0]*node_X[n1]+Ns[1]*node_X[n2]+Ns[2]*node_X[n3]+Ns[3]*node_X[n4]\n",
    "        X = Ns[0]*node_x[n1]+Ns[1]*node_x[n2]+Ns[2]*node_x[n3]+Ns[3]*node_x[n4]\n",
    "        # evaluate the Jacobians, first derivative of shape functions with respect to xi space then Jacobians \n",
    "        dNsdxi = dNvecdxi(xi,eta)\n",
    "        dXdxi = np.outer(node_X[n1],dNsdxi[:,0])+np.outer(node_X[n2],dNsdxi[:,1])\\\n",
    "                +np.outer(node_X[n3],dNsdxi[:,2])+np.outer(node_X[n4],dNsdxi[:,3])\n",
    "        dxdxi = np.outer(node_x[n1],dNsdxi[:,0])+np.outer(node_x[n2],dNsdxi[:,1])\\\n",
    "                +np.outer(node_x[n3],dNsdxi[:,2])+np.outer(node_x[n4],dNsdxi[:,3])\n",
    "        # get gradient of basis function with respect to X using inverse jacobian \n",
    "        JinvT = np.linalg.inv(dXdxi).transpose()\n",
    "        dNsdX = np.dot(JinvT,dNsdxi)\n",
    "        # get gradient of basis function with respect to x using inverse jacobian, the other one \n",
    "        jinvT = np.linalg.inv(dxdxi).transpose()\n",
    "        dNsdx = np.dot(jinvT,dNsdxi)\n",
    "        # get the deformation gradient \n",
    "        F = np.outer(node_x[n1],dNsdX[:,0])+np.outer(node_x[n2],dNsdX[:,1])\\\n",
    "            +np.outer(node_x[n3],dNsdX[:,2])+np.outer(node_x[n4],dNsdX[:,3])\n",
    "        detF = np.linalg.det(F)\n",
    "        b = np.dot(F,F.transpose())\n",
    "        c1 = 1.0 \n",
    "        p = 2*c1/(detF*detF)\n",
    "\n",
    "        #################### Stress ####################\n",
    "        #sigma = -p*np.eye(2) + 2*c1*b\n",
    "        \n",
    "        sigma = sig(F)\n",
    "        \n",
    "        #print(sigma)\n",
    "        colors1[i] = sigma[0,0]*1000\n",
    "        colors2[i] = sigma[1,1]*1000\n",
    "        #colors[i] = np.random.rand()\n",
    "    p1 = PatchCollection(patches)\n",
    "    p2 = PatchCollection(patches)\n",
    "    p1.set_array(colors1)\n",
    "    p2.set_array(colors2)\n",
    "    ax[0].add_collection(p1)\n",
    "    ax[1].add_collection(p2)\n",
    "    ax[0].set(xlabel = '$\\sigma_x$ (KPa)')\n",
    "    ax[1].set(xlabel = '$\\sigma_y$ (KPa)')\n",
    "    #p.set_clim([0, 1])\n",
    "    plt.colorbar(p1,ax=ax[0])\n",
    "    plt.colorbar(p2,ax=ax[1])"
   ]
  },
  {
   "cell_type": "markdown",
   "metadata": {},
   "source": [
    "# Uniaxial Tension"
   ]
  },
  {
   "cell_type": "code",
   "execution_count": 12,
   "metadata": {},
   "outputs": [
    {
     "name": "stdout",
     "output_type": "stream",
     "text": [
      "iter 1\n",
      "8.25770316872992\n",
      "iter 2\n",
      "0.3357394801339513\n",
      "iter 3\n",
      "0.10006832361849574\n",
      "iter 4\n",
      "0.04377844102980274\n",
      "iter 5\n",
      "0.01754969431714051\n",
      "iter 6\n",
      "0.00565834863583503\n",
      "iter 7\n",
      "0.001486588059168428\n",
      "iter 8\n",
      "0.0004119030890430054\n",
      "iter 9\n",
      "0.00010379700517164247\n",
      "iter 10\n",
      "5.9505652212308675e-06\n"
     ]
    },
    {
     "data": {
      "image/png": "[encoded data removed]",
      "text/plain": [
       "<Figure size 1440x720 with 4 Axes>"
      ]
     },
     "metadata": {
      "needs_background": "light"
     },
     "output_type": "display_data"
    }
   ],
   "source": [
    "node_x = np.zeros_like(node_X)\n",
    "DOF_fmap = np.zeros((n_node,2),dtype=int)\n",
    "DOF_imap = [] \n",
    "dof = 0\n",
    "for i in range(n_node):\n",
    "    X = node_X[i]\n",
    "    node_x[i] = node_X[i]\n",
    "    if X[0]<0.001:\n",
    "        DOF_fmap[i,0] = -1\n",
    "        node_x[i,0] = 0\n",
    "        if X[1] < 0.001:\n",
    "            DOF_fmap[i,1] = -1\n",
    "            node_x[i,1] = 0\n",
    "        else:\n",
    "            DOF_fmap[i,1] = dof\n",
    "            DOF_imap.append([i,0])\n",
    "            dof+= 1\n",
    "    elif X[0]>0.999:\n",
    "        DOF_fmap[i,0] = -1\n",
    "        node_x[i,0] = 1.1\n",
    "        if X[1]<0.001:\n",
    "            DOF_fmap[i,1] = -1\n",
    "            node_x[i,1] = 0\n",
    "        else:\n",
    "            DOF_fmap[i,1] = dof\n",
    "            DOF_imap.append([i,1])\n",
    "            dof+= 1\n",
    "    else:\n",
    "        DOF_fmap[i,0] = dof\n",
    "        DOF_fmap[i,1] = dof+1\n",
    "        dof+=2 \n",
    "        DOF_imap.append([i,0])\n",
    "        DOF_imap.append([i,1])\n",
    "        \n",
    "## Newton Raphson \n",
    "res = 5\n",
    "iter = 0\n",
    "tol = 1e-5\n",
    "itermax = 10\n",
    "while res>tol and iter<itermax:\n",
    "    RR,KK = assembleRRKK()\n",
    "    # for the increment not all of the KK is needed because some nodes have essential BC\n",
    "    RRdof = RR[DOF_fmap.flatten()>=0]\n",
    "    KKdof = KK[DOF_fmap.flatten()>=0]\n",
    "    KKdof = KKdof[:,DOF_fmap.flatten()>=0]\n",
    "    res = np.linalg.norm(RRdof)\n",
    "    incr_u = -np.linalg.solve(KKdof,RRdof)\n",
    "    j = 0\n",
    "    for i in range(n_node):\n",
    "        if DOF_fmap[i,0] >= 0:\n",
    "            node_x[i,0]+= incr_u[j]\n",
    "            j+= 1\n",
    "        if DOF_fmap[i,1] >= 0:\n",
    "            node_x[i,1]+= incr_u[j]\n",
    "            j+= 1\n",
    "    iter +=1\n",
    "    if iter%1 == 0:\n",
    "        print('iter %i'%iter)\n",
    "        print(res)\n",
    "plot_stress()"
   ]
  },
  {
   "cell_type": "markdown",
   "metadata": {},
   "source": [
    "# Shearing"
   ]
  },
  {
   "cell_type": "code",
   "execution_count": 13,
   "metadata": {},
   "outputs": [
    {
     "name": "stdout",
     "output_type": "stream",
     "text": [
      "iter 1\n",
      "11.232485902440171\n",
      "iter 2\n",
      "2.5566108141845914\n",
      "iter 3\n",
      "0.06261763348829019\n",
      "iter 4\n",
      "0.016937074116920164\n",
      "iter 5\n",
      "0.008018542764273514\n",
      "iter 6\n",
      "0.0038288722849908596\n",
      "iter 7\n",
      "0.001595979641989152\n",
      "iter 8\n",
      "0.0005292231430160899\n",
      "iter 9\n",
      "0.00011729886909587631\n",
      "iter 10\n",
      "9.049682102735706e-06\n"
     ]
    },
    {
     "data": {
      "image/png": "[encoded data removed]",
      "text/plain": [
       "<Figure size 1440x720 with 4 Axes>"
      ]
     },
     "metadata": {
      "needs_background": "light"
     },
     "output_type": "display_data"
    }
   ],
   "source": [
    "node_x = np.zeros_like(node_X)\n",
    "DOF_fmap = np.zeros((n_node,2),dtype=int)\n",
    "DOF_imap = [] \n",
    "dof = 0\n",
    "for i in range(n_node):\n",
    "    X = node_X[i]\n",
    "    node_x[i] = node_X[i]\n",
    "    if X[0]<0.001:\n",
    "        DOF_fmap[i,0] = -1\n",
    "        node_x[i,0] = 0\n",
    "        DOF_fmap[i,1] = -1\n",
    "    elif X[0]>0.999:\n",
    "        DOF_fmap[i,0] = -1\n",
    "        node_x[i,0] = 1.1\n",
    "        DOF_fmap[i,1] = -1\n",
    "        node_x[i,1] = node_x[i,1] + 0.1\n",
    "    else:\n",
    "        DOF_fmap[i,0] = dof\n",
    "        DOF_fmap[i,1] = dof+1\n",
    "        dof+=2 \n",
    "        DOF_imap.append([i,0])\n",
    "        DOF_imap.append([i,1])\n",
    "        \n",
    "## Newton Raphson \n",
    "res = 5\n",
    "iter = 0\n",
    "tol = 1e-5\n",
    "itermax = 10\n",
    "while res>tol and iter<itermax:\n",
    "    RR,KK = assembleRRKK()\n",
    "    # for the increment not all of the KK is needed because some nodes have essential BC\n",
    "    RRdof = RR[DOF_fmap.flatten()>=0]\n",
    "    KKdof = KK[DOF_fmap.flatten()>=0]\n",
    "    KKdof = KKdof[:,DOF_fmap.flatten()>=0]\n",
    "    res = np.linalg.norm(RRdof)\n",
    "    incr_u = -np.linalg.solve(KKdof,RRdof)\n",
    "    j = 0\n",
    "    for i in range(n_node):\n",
    "        if DOF_fmap[i,0] >= 0:\n",
    "            node_x[i,0]+= incr_u[j]\n",
    "            j+= 1\n",
    "        if DOF_fmap[i,1] >= 0:\n",
    "            node_x[i,1]+= incr_u[j]\n",
    "            j+= 1\n",
    "    iter +=1\n",
    "    if iter%1 == 0:\n",
    "        print('iter %i'%iter)\n",
    "        print(res)\n",
    "plot_stress()"
   ]
  },
  {
   "cell_type": "markdown",
   "metadata": {},
   "source": [
    "# Clamped Uniaxial Tension"
   ]
  },
  {
   "cell_type": "code",
   "execution_count": null,
   "metadata": {},
   "outputs": [
    {
     "name": "stdout",
     "output_type": "stream",
     "text": [
      "iter 1\n",
      "8.352463626448396\n",
      "iter 2\n",
      "0.31143263682711764\n",
      "iter 3\n",
      "0.10014544321738901\n",
      "iter 4\n",
      "0.04399741990870096\n",
      "iter 5\n",
      "0.017484190975161126\n",
      "iter 6\n",
      "0.00548177055461945\n",
      "iter 7\n",
      "0.0013390880243082407\n",
      "iter 8\n",
      "0.000321734786203009\n",
      "iter 9\n",
      "5.001903574165602e-05\n"
     ]
    }
   ],
   "source": [
    "node_x = np.zeros_like(node_X)\n",
    "DOF_fmap = np.zeros((n_node,2),dtype=int)\n",
    "DOF_imap = [] \n",
    "dof = 0\n",
    "for i in range(n_node):\n",
    "    X = node_X[i]\n",
    "    node_x[i] = node_X[i]\n",
    "    if X[0]<0.001:\n",
    "        DOF_fmap[i,0] = -1\n",
    "        DOF_fmap[i,1] = -1\n",
    "    elif X[0]>0.999:\n",
    "        DOF_fmap[i,0] = -1\n",
    "        node_x[i,0] = 1.1\n",
    "        DOF_fmap[i,1] = dof\n",
    "        DOF_imap.append([i,1])\n",
    "        dof+= 1\n",
    "        #DOF_fmap[i,1] = -1\n",
    "        #node_x[i,1] = node_x[i,1] + 0.1\n",
    "    else:\n",
    "        DOF_fmap[i,0] = dof\n",
    "        DOF_fmap[i,1] = dof+1\n",
    "        dof+=2 \n",
    "        DOF_imap.append([i,0])\n",
    "        DOF_imap.append([i,1])\n",
    "        \n",
    "## Newton Raphson \n",
    "res = 5\n",
    "iter = 0\n",
    "tol = 1e-5\n",
    "itermax = 10\n",
    "while res>tol and iter<itermax:\n",
    "    RR,KK = assembleRRKK()\n",
    "    # for the increment not all of the KK is needed because some nodes have essential BC\n",
    "    RRdof = RR[DOF_fmap.flatten()>=0]\n",
    "    KKdof = KK[DOF_fmap.flatten()>=0]\n",
    "    KKdof = KKdof[:,DOF_fmap.flatten()>=0]\n",
    "    res = np.linalg.norm(RRdof)\n",
    "    incr_u = -np.linalg.solve(KKdof,RRdof)\n",
    "    j = 0\n",
    "    for i in range(n_node):\n",
    "        if DOF_fmap[i,0] >= 0:\n",
    "            node_x[i,0]+= incr_u[j]\n",
    "            j+= 1\n",
    "        if DOF_fmap[i,1] >= 0:\n",
    "            node_x[i,1]+= incr_u[j]\n",
    "            j+= 1\n",
    "    iter +=1\n",
    "    if iter%1 == 0:\n",
    "        print('iter %i'%iter)\n",
    "        print(res)\n",
    "plot_stress()"
   ]
  },
  {
   "cell_type": "code",
   "execution_count": null,
   "metadata": {},
   "outputs": [],
   "source": []
  }
 ],
 "metadata": {
  "kernelspec": {
   "display_name": "Python 3",
   "language": "python",
   "name": "python3"
  },
  "language_info": {
   "codemirror_mode": {
    "name": "ipython",
    "version": 3
   },
   "file_extension": ".py",
   "mimetype": "text/x-python",
   "name": "python",
   "nbconvert_exporter": "python",
   "pygments_lexer": "ipython3",
   "version": "3.8.5"
  }
 },
 "nbformat": 4,
 "nbformat_minor": 4
}
