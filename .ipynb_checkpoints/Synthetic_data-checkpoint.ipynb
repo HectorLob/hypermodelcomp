{
 "cells": [
  {
   "cell_type": "code",
   "execution_count": 1,
   "id": "28ca7566-00cc-4c75-b046-c0e70cb6a91a",
   "metadata": {},
   "outputs": [],
   "source": [
    "import numpy as np\n",
    "from material_models import GOH, MR, HGO, Fung, neoHook, Fung3D\n",
    "import pickle\n",
    "import matplotlib.pyplot as plt"
   ]
  },
  {
   "cell_type": "code",
   "execution_count": 2,
   "id": "573aed40-5d54-4aae-8916-0d895fcb8fdb",
   "metadata": {},
   "outputs": [],
   "source": [
    "# For P1C1:\n",
    "GOH_params = [1.02356332e-02, 5.13664702e-01, 5.91491834e+01, 2.74447648e-01, 1.57079633e+00]\n",
    "MR_params  = [0.,         0.,         0.14424528] #P1C1 params\n",
    "#MR_params = [0.1, 0.5, 0] #Random params for testing\n",
    "HGO_params = [0.012902496702913772,0.01724173170395558,14.00442692847235,2.110210658359853]\n",
    "Fung_params= [0.0024147281291801714,-1.74859889140465,-21.453946421295953,49.84357587843394]\n",
    "Fung3D_params = [-2.46700880e-02,  7.04197478e+00,  2.90095494e+01, -1.12582229e+01, -8.86992305e-01, -1.87499650e-01,\n",
    "                 8.47313715e-01,  8.25627773e+00, -3.43063075e+00,  1.06415746e+01]\n",
    "neoHook_params = [0.04902344]\n",
    "path = 'training_data/P1C1'"
   ]
  },
  {
   "cell_type": "markdown",
   "id": "39ecb996-08f0-4a66-ac07-79e359ce8296",
   "metadata": {},
   "source": [
    "## Linear grid"
   ]
  },
  {
   "cell_type": "code",
   "execution_count": 3,
   "id": "c5c9b2f3-5939-400f-aedf-c36e01e62702",
   "metadata": {},
   "outputs": [
    {
     "data": {
      "text/plain": [
       "<matplotlib.collections.PathCollection at 0x10a8c2910>"
      ]
     },
     "execution_count": 3,
     "metadata": {},
     "output_type": "execute_result"
    },
    {
     "data": {
      "image/png": "[encoded data removed]",
      "text/plain": [
       "<Figure size 432x288 with 1 Axes>"
      ]
     },
     "metadata": {
      "needs_background": "light"
     },
     "output_type": "display_data"
    }
   ],
   "source": [
    "#linscale data\n",
    "res = 11\n",
    "lm = np.linspace(1.0,1.25,res)\n",
    "#lm = np.linspace(1,1.25,res)\n",
    "lm1,lm2 = np.meshgrid(lm,lm)\n",
    "lm1 = lm1.flatten()\n",
    "lm2 = lm2.flatten()\n",
    "lm = np.array([lm2, lm1]).T\n",
    "plt.scatter(lm[:,0],lm[:,1],marker='.')"
   ]
  },
  {
   "cell_type": "markdown",
   "id": "beefe152-7725-4942-9d38-710daf941589",
   "metadata": {},
   "source": [
    "## Logarithmic Grid"
   ]
  },
  {
   "cell_type": "code",
   "execution_count": 4,
   "id": "49fd83fa-acdf-48d2-b9ae-5e0b4c460da1",
   "metadata": {},
   "outputs": [],
   "source": [
    "res = 30\n",
    "# lm = (np.logspace(0,np.log10(26),res)-1)/100+1\n",
    "# lm1,lm2 = np.meshgrid(lm,lm)\n",
    "# lm1 = lm1.flatten()\n",
    "# lm2 = lm2.flatten()\n",
    "# lm = np.array([lm2, lm1]).T\n",
    "# plt.scatter(lm[:,0],lm[:,1],marker='.')"
   ]
  },
  {
   "cell_type": "markdown",
   "id": "3bfce4ff-d0d3-47ee-bc61-3f3be2add0f0",
   "metadata": {},
   "source": [
    "## Logarithmic Grid 2"
   ]
  },
  {
   "cell_type": "code",
   "execution_count": 5,
   "id": "e3d6ced1-751f-4efb-baab-dbc5f2a95f96",
   "metadata": {},
   "outputs": [
    {
     "data": {
      "text/plain": [
       "<matplotlib.collections.PathCollection at 0x10a86a7f0>"
      ]
     },
     "execution_count": 5,
     "metadata": {},
     "output_type": "execute_result"
    },
    {
     "data": {
      "image/png": "[encoded data removed]",
      "text/plain": [
       "<Figure size 432x288 with 1 Axes>"
      ]
     },
     "metadata": {
      "needs_background": "light"
     },
     "output_type": "display_data"
    }
   ],
   "source": [
    "lm = (np.logspace(0,np.log10(251),res)-1)/1000+1\n",
    "#lm = (np.logspace(0,np.log10(451),res)-1)/1000+0.8\n",
    "lm1,lm2 = np.meshgrid(lm,lm)\n",
    "lm1 = lm1.flatten()\n",
    "lm2 = lm2.flatten()\n",
    "lm = np.array([lm2, lm1]).T\n",
    "plt.scatter(lm[:,0],lm[:,1],marker='.')"
   ]
  },
  {
   "cell_type": "code",
   "execution_count": 6,
   "id": "0f5279cc-2ce6-40d7-b113-02d19927c35d",
   "metadata": {},
   "outputs": [],
   "source": [
    "lm = lm[1:,:] #Remove the first point because it results in inf when I take its log"
   ]
  },
  {
   "cell_type": "code",
   "execution_count": 7,
   "id": "4ab381de-d077-455e-8a97-1afdd931d860",
   "metadata": {},
   "outputs": [],
   "source": [
    "GOH_MM  = GOH(GOH_params)\n",
    "MR_MM   = MR(MR_params)\n",
    "HGO_MM  = HGO(HGO_params)\n",
    "Fung_MM = Fung(Fung_params)\n",
    "neoHook_MM = neoHook(neoHook_params)\n",
    "Fung3D_MM = Fung3D(Fung3D_params)"
   ]
  },
  {
   "cell_type": "code",
   "execution_count": 8,
   "id": "d61ee4a9-4c22-4212-a489-8ec8760dc857",
   "metadata": {},
   "outputs": [],
   "source": [
    "sigma_GOH  = GOH_MM.sigma(lm)\n",
    "sigma_MR   = MR_MM.sigma(lm)\n",
    "sigma_HGO  = HGO_MM.sigma(lm)\n",
    "sigma_Fung = Fung_MM.sigma(lm)\n",
    "sigma_neoHook = neoHook_MM.sigma(lm)\n",
    "sigma_Fung3D = Fung3D_MM.sigma(lm)"
   ]
  },
  {
   "cell_type": "code",
   "execution_count": 9,
   "id": "7dbb0b0e-1081-47f0-877c-a5938ae4dcf8",
   "metadata": {},
   "outputs": [],
   "source": [
    "with open(path+'_GOH.npy','wb') as f:\n",
    "    np.save(f, [lm, np.array([sigma_GOH[:,0,0], sigma_GOH[:,1,1]]).T])\n",
    "with open(path+'_MR.npy','wb') as f:\n",
    "    np.save(f, [lm, np.array([sigma_MR[:,0,0], sigma_MR[:,1,1]]).T])\n",
    "with open(path+'_HGO.npy','wb') as f:\n",
    "    np.save(f, [lm, np.array([sigma_HGO[:,0,0], sigma_HGO[:,1,1]]).T])\n",
    "with open(path+'_Fung.npy','wb') as f:\n",
    "    np.save(f, [lm, np.array([sigma_Fung[:,0,0], sigma_Fung[:,1,1]]).T])\n",
    "with open(path+'_neoHook.npy','wb') as f:\n",
    "    np.save(f, [lm, np.array([sigma_neoHook[:,0,0], sigma_neoHook[:,1,1]]).T])\n",
    "with open(path+'_Fung3D.npy','wb') as f:\n",
    "    np.save(f, [lm, np.array([sigma_Fung3D[:,0,0], sigma_Fung3D[:,1,1]]).T])"
   ]
  },
  {
   "cell_type": "code",
   "execution_count": null,
   "id": "74738fd8-0158-4b69-9025-dca40fba892f",
   "metadata": {},
   "outputs": [],
   "source": []
  }
 ],
 "metadata": {
  "kernelspec": {
   "display_name": "base",
   "language": "python",
   "name": "python3"
  },
  "language_info": {
   "codemirror_mode": {
    "name": "ipython",
    "version": 3
   },
   "file_extension": ".py",
   "mimetype": "text/x-python",
   "name": "python",
   "nbconvert_exporter": "python",
   "pygments_lexer": "ipython3",
   "version": "3.8.13"
  }
 },
 "nbformat": 4,
 "nbformat_minor": 5
}
