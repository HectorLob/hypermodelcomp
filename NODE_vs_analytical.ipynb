{
 "cells": [
  {
   "cell_type": "code",
   "execution_count": 1,
   "metadata": {},
   "outputs": [
    {
     "name": "stderr",
     "output_type": "stream",
     "text": [
      "/opt/anaconda3/lib/python3.8/site-packages/jax/lib/xla_bridge.py:130: UserWarning: No GPU/TPU found, falling back to CPU.\n",
      "  warnings.warn('No GPU/TPU found, falling back to CPU.')\n"
     ]
    }
   ],
   "source": [
    "import jax.numpy as np\n",
    "from jax import random, grad, jit, partial\n",
    "key = random.PRNGKey(0)\n",
    "from jax.experimental import optimizers\n",
    "from NODE_fns import NODE_vmap as NN, init_params\n",
    "import matplotlib.pyplot as plt\n",
    "import pickle\n",
    "from NODE_fns import NODE_lm2sigma_vmap\n",
    "from jax.config import config\n",
    "config.update(\"jax_enable_x64\", True)\n",
    "\n",
    "plt.rcParams.update({'font.size': 12})"
   ]
  },
  {
   "cell_type": "code",
   "execution_count": 2,
   "metadata": {},
   "outputs": [],
   "source": [
    "class Alexander():\n",
    "    def __init__(self, C1=0.1403, C2=0.2542, C3 = 0.0022, kappa = 0.000346, gamma = 5.8088):\n",
    "        self.C1 = C1\n",
    "        self.C2 = C2\n",
    "        self.C3 = C3\n",
    "        self.kappa = kappa\n",
    "        self.gamma = gamma\n",
    "    def Psi1(self, I1):\n",
    "        C1 = self.C1\n",
    "        kappa = self.kappa\n",
    "        return C1*np.exp(kappa*(I1-3)**2)\n",
    "    def Psi2(self, I2):\n",
    "        C2 = self.C2\n",
    "        C3 = self.C3\n",
    "        gamma = self.gamma\n",
    "        return C2/(I2-3+gamma) + C3\n",
    "\n",
    "class NODE():\n",
    "    def __init__(self, params_I1, params_I2):\n",
    "        self.params_I1 = params_I1\n",
    "        self.params_I2 = params_I2\n",
    "    def Psi1(self, I1):\n",
    "        return NN(I1-3.0, self.params_I1)\n",
    "    def Psi2(self, I2):\n",
    "        return NN(I2-3.0, self.params_I2)"
   ]
  },
  {
   "cell_type": "code",
   "execution_count": 3,
   "metadata": {},
   "outputs": [],
   "source": [
    "def P11_UT(lamb, model):\n",
    "    I1 = lamb**2 + 2/lamb\n",
    "    I2 = 2*lamb + 1/lamb**2\n",
    "    Psi1 = model.Psi1(I1)\n",
    "    Psi2 = model.Psi2(I2)\n",
    "    return 2*(Psi1 + Psi2/lamb)*(lamb-1/lamb**2)\n",
    "def P11_ET(lamb, model):\n",
    "    I1 = 2*lamb**2 + 1/lamb**4\n",
    "    I2 = lamb**4 + 2/lamb**2\n",
    "    Psi1 = model.Psi1(I1)\n",
    "    Psi2 = model.Psi2(I2)\n",
    "    return 2*(Psi1 + Psi2*lamb**2)*(lamb-1/lamb**5)\n",
    "def P11_PS(lamb, model):\n",
    "    I1 = I2 = lamb**2 + 1/lamb**2 + 1\n",
    "    Psi1 = model.Psi1(I1)\n",
    "    Psi2 = model.Psi2(I2)\n",
    "    return 2*(Psi1+Psi2)*(lamb-1/lamb**3)"
   ]
  },
  {
   "cell_type": "code",
   "execution_count": 4,
   "metadata": {},
   "outputs": [],
   "source": [
    "with open('training_data/rubber20UT_ET_PS.npy', 'rb') as f:\n",
    "    lamb, sigma_gt = np.load(f,allow_pickle=True)\n",
    "P_gt = sigma_gt/lamb\n",
    "P11_gt_UT = P_gt[:25,0]\n",
    "P11_gt_ET = P_gt[25:25+17,0]\n",
    "P11_gt_PS = P_gt[25+17:,0]\n",
    "lamb_UT = lamb[:25,0]\n",
    "lamb_ET = lamb[25:25+17,0]\n",
    "lamb_PS = lamb[25+17:,0]\n",
    "\n",
    "model = Alexander()\n",
    "P11_Ax_UT = P11_UT(lamb_UT, model)\n",
    "P11_Ax_ET = P11_ET(lamb_ET, model)\n",
    "P11_Ax_PS = P11_PS(lamb_PS, model)"
   ]
  },
  {
   "cell_type": "code",
   "execution_count": 5,
   "metadata": {},
   "outputs": [
    {
     "data": {
      "text/plain": [
       "[<matplotlib.lines.Line2D at 0x7fddb8d19a00>]"
      ]
     },
     "execution_count": 5,
     "metadata": {},
     "output_type": "execute_result"
    },
    {
     "data": {
      "image/png": "[encoded data removed]",
      "text/plain": [
       "<Figure size 432x288 with 1 Axes>"
      ]
     },
     "metadata": {
      "needs_background": "light"
     },
     "output_type": "display_data"
    }
   ],
   "source": [
    "plt.plot(lamb_UT, P11_gt_UT, 'k.')\n",
    "plt.plot(lamb_UT, P11_Ax_UT, 'k')\n",
    "\n",
    "plt.plot(lamb_ET, P11_gt_ET, 'b.')\n",
    "plt.plot(lamb_ET, P11_Ax_ET, 'b')\n",
    "\n",
    "plt.plot(lamb_PS, P11_gt_PS, 'g.')\n",
    "plt.plot(lamb_PS, P11_Ax_PS, 'g')"
   ]
  },
  {
   "cell_type": "code",
   "execution_count": 6,
   "metadata": {},
   "outputs": [
    {
     "name": "stdout",
     "output_type": "stream",
     "text": [
      "it 1000, train loss = 1.638268e+01\n",
      "it 2000, train loss = 6.280226e-01\n",
      "it 3000, train loss = 8.798833e-02\n",
      "it 4000, train loss = 2.328872e-02\n",
      "it 5000, train loss = 8.574869e-03\n",
      "it 6000, train loss = 4.345756e-03\n",
      "it 7000, train loss = 2.786720e-03\n",
      "it 8000, train loss = 1.828315e-03\n",
      "it 9000, train loss = 1.131877e-03\n",
      "it 10000, train loss = 6.547558e-04\n",
      "it 11000, train loss = 3.475913e-04\n",
      "it 12000, train loss = 1.659163e-04\n",
      "it 13000, train loss = 7.387104e-05\n",
      "it 14000, train loss = 3.616090e-05\n",
      "it 15000, train loss = 2.517094e-05\n",
      "it 16000, train loss = 2.135135e-05\n",
      "it 17000, train loss = 8.184499e-06\n",
      "it 18000, train loss = 5.415740e-06\n",
      "it 19000, train loss = 4.885865e-06\n",
      "it 20000, train loss = 4.694619e-06\n",
      "it 21000, train loss = 4.601415e-06\n",
      "it 22000, train loss = 4.493401e-06\n",
      "it 23000, train loss = 4.379991e-06\n",
      "it 24000, train loss = 4.244776e-06\n",
      "it 25000, train loss = 4.107488e-06\n",
      "it 26000, train loss = 3.985617e-06\n",
      "it 27000, train loss = 3.885150e-06\n",
      "it 28000, train loss = 3.726415e-06\n",
      "it 29000, train loss = 3.613167e-06\n",
      "it 30000, train loss = 3.505367e-06\n",
      "it 31000, train loss = 3.405459e-06\n",
      "it 32000, train loss = 3.309712e-06\n",
      "it 33000, train loss = 3.217284e-06\n",
      "it 34000, train loss = 2.985989e-06\n",
      "it 35000, train loss = 2.979781e-06\n",
      "it 36000, train loss = 2.651724e-06\n",
      "it 37000, train loss = 2.511198e-06\n",
      "it 38000, train loss = 2.376582e-06\n",
      "it 39000, train loss = 2.246513e-06\n",
      "it 40000, train loss = 2.123875e-06\n",
      "it 41000, train loss = 2.004620e-06\n",
      "it 42000, train loss = 1.888157e-06\n",
      "it 43000, train loss = 1.774964e-06\n",
      "it 44000, train loss = 4.089548e-05\n",
      "it 45000, train loss = 1.824334e-06\n",
      "it 46000, train loss = 1.473289e-06\n",
      "it 47000, train loss = 1.379400e-06\n",
      "it 48000, train loss = 1.292830e-06\n",
      "it 49000, train loss = 1.210183e-06\n",
      "it 50000, train loss = 1.134203e-06\n",
      "it 1000, train loss = 3.909421e+04\n",
      "it 2000, train loss = 1.558668e+04\n",
      "it 3000, train loss = 6.165535e+03\n",
      "it 4000, train loss = 2.436370e+03\n",
      "it 5000, train loss = 9.028049e+02\n",
      "it 6000, train loss = 3.062249e+02\n",
      "it 7000, train loss = 9.452324e+01\n",
      "it 8000, train loss = 2.664069e+01\n",
      "it 9000, train loss = 6.931057e+00\n",
      "it 10000, train loss = 1.692522e+00\n",
      "it 11000, train loss = 2.868180e-01\n",
      "it 12000, train loss = 1.553076e-02\n",
      "it 13000, train loss = 2.104242e-04\n",
      "it 14000, train loss = 4.158415e-05\n",
      "it 15000, train loss = 4.137702e-05\n",
      "it 16000, train loss = 4.125799e-05\n",
      "it 17000, train loss = 4.121475e-05\n",
      "it 18000, train loss = 4.117995e-05\n",
      "it 19000, train loss = 4.116207e-05\n",
      "it 20000, train loss = 4.115782e-05\n",
      "it 21000, train loss = 4.116366e-05\n",
      "it 22000, train loss = 4.117796e-05\n",
      "it 23000, train loss = 4.120431e-05\n",
      "it 24000, train loss = 4.222797e-05\n",
      "it 25000, train loss = 4.114402e-05\n",
      "it 26000, train loss = 4.116420e-05\n",
      "it 27000, train loss = 4.119136e-05\n",
      "it 28000, train loss = 4.509161e-05\n",
      "it 29000, train loss = 4.114927e-05\n",
      "it 30000, train loss = 4.117481e-05\n",
      "it 31000, train loss = 4.123651e-05\n",
      "it 32000, train loss = 4.113971e-05\n",
      "it 33000, train loss = 4.117879e-05\n",
      "it 34000, train loss = 4.112547e-05\n",
      "it 35000, train loss = 4.110732e-05\n",
      "it 36000, train loss = 4.111782e-05\n",
      "it 37000, train loss = 4.112800e-05\n",
      "it 38000, train loss = 4.115467e-05\n",
      "it 39000, train loss = 4.121223e-05\n",
      "it 40000, train loss = 1.264671e-04\n",
      "it 41000, train loss = 4.114199e-05\n",
      "it 42000, train loss = 4.120498e-05\n",
      "it 43000, train loss = 4.112259e-05\n",
      "it 44000, train loss = 4.116893e-05\n",
      "it 45000, train loss = 4.157221e-05\n",
      "it 46000, train loss = 4.113282e-05\n",
      "it 47000, train loss = 4.116877e-05\n",
      "it 48000, train loss = 4.126658e-05\n",
      "it 49000, train loss = 4.112708e-05\n",
      "it 50000, train loss = 4.116091e-05\n"
     ]
    }
   ],
   "source": [
    "gt_Psi1 = Alexander().Psi1\n",
    "gt_Psi2 = Alexander().Psi2\n",
    "\n",
    "@jit\n",
    "def loss_Psi1(params, I1):\n",
    "    Psi1_gt = gt_Psi1(I1)\n",
    "    Psi1_pr = NN(I1-3.0, params)\n",
    "    return np.mean((Psi1_gt-Psi1_pr)**2)\n",
    "\n",
    "@jit\n",
    "def loss_Psi2(params, I2):\n",
    "    Psi2_gt = gt_Psi2(I2)\n",
    "    Psi2_pr = NN(I2-3.0, params)\n",
    "    return np.mean((Psi2_gt-Psi2_pr)**2)\n",
    "\n",
    "@partial(jit, static_argnums=(0,))\n",
    "def step(loss, i, opt_state, X_batch):\n",
    "    params = get_params(opt_state)\n",
    "    g = grad(loss)(params, X_batch)\n",
    "    return opt_update(i, g, opt_state)\n",
    "\n",
    "def train(loss, X, opt_state, key, nIter = 10000):\n",
    "    train_loss = []\n",
    "    val_loss = []\n",
    "    for it in range(nIter):\n",
    "        opt_state = step(loss, it, opt_state, X)         \n",
    "        if (it+1)% 1000 == 0:\n",
    "            params = get_params(opt_state)\n",
    "            train_loss_value = loss(params, X)\n",
    "            train_loss.append(train_loss_value)\n",
    "            to_print = \"it %i, train loss = %e\" % (it+1, train_loss_value)\n",
    "            print(to_print)\n",
    "    return get_params(opt_state), train_loss, val_loss\n",
    "\n",
    "layers = [2, 5, 5, 1]\n",
    "params_I1 = init_params(layers, key)\n",
    "opt_init, opt_update, get_params = optimizers.adam(2.e-4) #Original: 1.e-4\n",
    "opt_state = opt_init(params_I1)\n",
    "I1 = np.linspace(3,70)\n",
    "params_I1, train_loss, val_loss = train(loss_Psi1, I1, opt_state, key, nIter = 50000) #Original 100000\n",
    "\n",
    "params_I2 = init_params(layers, key)\n",
    "opt_init, opt_update, get_params = optimizers.adam(2.e-4) #Original: 1.e-4\n",
    "opt_state = opt_init(params_I2)\n",
    "I2 = np.linspace(3,500)\n",
    "params_I2, train_loss, val_loss = train(loss_Psi2, I2, opt_state, key, nIter = 50000) #Original 100000"
   ]
  },
  {
   "cell_type": "code",
   "execution_count": 7,
   "metadata": {},
   "outputs": [
    {
     "data": {
      "text/plain": [
       "[<matplotlib.lines.Line2D at 0x7fdd98be2400>]"
      ]
     },
     "execution_count": 7,
     "metadata": {},
     "output_type": "execute_result"
    },
    {
     "data": {
      "image/png": "[encoded data removed]",
      "text/plain": [
       "<Figure size 432x288 with 1 Axes>"
      ]
     },
     "metadata": {
      "needs_background": "light"
     },
     "output_type": "display_data"
    }
   ],
   "source": [
    "model = NODE(params_I1, params_I2)\n",
    "P11_NN_UT = P11_UT(lamb_UT, model)\n",
    "P11_NN_ET = P11_ET(lamb_ET, model)\n",
    "P11_NN_PS = P11_PS(lamb_PS, model) \n",
    "\n",
    "plt.plot(lamb_UT, P11_gt_UT, 'k.')\n",
    "# plt.plot(lamb_UT, P11_Ax_UT, 'k--')\n",
    "plt.plot(lamb_UT, P11_NN_UT, 'k')\n",
    "\n",
    "plt.plot(lamb_ET, P11_gt_ET, 'b.')\n",
    "# plt.plot(lamb_ET, P11_Ax_ET, 'b--')\n",
    "plt.plot(lamb_ET, P11_NN_ET, 'b')\n",
    "\n",
    "plt.plot(lamb_PS, P11_gt_PS, 'g.')\n",
    "# plt.plot(lamb_PS, P11_Ax_PS, 'g--')\n",
    "plt.plot(lamb_PS, P11_NN_PS, 'g')"
   ]
  },
  {
   "cell_type": "code",
   "execution_count": 17,
   "metadata": {},
   "outputs": [
    {
     "data": {
      "text/plain": [
       "[Text(0.5, 0, '$I_2$'), Text(0, 0.5, '$\\\\Psi_2$')]"
      ]
     },
     "execution_count": 17,
     "metadata": {},
     "output_type": "execute_result"
    },
    {
     "data": {
      "image/png": "[encoded data removed]",
      "text/plain": [
       "<Figure size 720x288 with 2 Axes>"
      ]
     },
     "metadata": {
      "needs_background": "light"
     },
     "output_type": "display_data"
    }
   ],
   "source": [
    "I1 = 2*lamb_ET**2 + 1/lamb_ET**4\n",
    "I2 = lamb_ET**4 + 2/lamb_ET**2\n",
    "Psi1_Ax = gt_Psi1(I1)\n",
    "Psi2_Ax = gt_Psi2(I2)\n",
    "Psi1_NN = NN(I1-3.0, params_I1)\n",
    "Psi2_NN = NN(I2-3.0, params_I2)\n",
    "\n",
    "fig, ax = plt.subplots(1,2, figsize=[10,4])\n",
    "ax[0].plot(I1, Psi1_Ax, '.')\n",
    "ax[0].plot(I1, Psi1_NN)\n",
    "ax[0].set(xlabel='$I_1$', ylabel = '$\\Psi_1$')\n",
    "\n",
    "ax[1].plot(I2, Psi2_Ax, '.')\n",
    "ax[1].plot(I2, Psi2_NN)\n",
    "ax[1].set(xlabel='$I_2$', ylabel = '$\\Psi_2$')"
   ]
  },
  {
   "cell_type": "code",
   "execution_count": 18,
   "metadata": {},
   "outputs": [
    {
     "name": "stdout",
     "output_type": "stream",
     "text": [
      "0.015276366097099764 0.02374571394059228\n"
     ]
    }
   ],
   "source": [
    "P11_gt = np.hstack([P11_gt_UT, P11_gt_ET, P11_gt_PS])\n",
    "P11_Ax = np.hstack([P11_Ax_UT, P11_Ax_ET, P11_Ax_PS])\n",
    "P11_NN = np.hstack([P11_NN_UT, P11_NN_ET, P11_NN_PS])\n",
    "\n",
    "MSE_Ax = np.mean((P11_gt-P11_Ax)**2)\n",
    "MSE_NN = np.mean((P11_gt-P11_NN)**2)\n",
    "print(MSE_Ax, MSE_NN)"
   ]
  },
  {
   "cell_type": "code",
   "execution_count": null,
   "metadata": {},
   "outputs": [],
   "source": []
  }
 ],
 "metadata": {
  "interpreter": {
   "hash": "40d3a090f54c6569ab1632332b64b2c03c39dcf918b08424e98f38b5ae0af88f"
  },
  "kernelspec": {
   "display_name": "Python 3.8.5",
   "language": "python",
   "name": "python3"
  },
  "language_info": {
   "codemirror_mode": {
    "name": "ipython",
    "version": 3
   },
   "file_extension": ".py",
   "mimetype": "text/x-python",
   "name": "python",
   "nbconvert_exporter": "python",
   "pygments_lexer": "ipython3",
   "version": "3.8.5"
  },
  "orig_nbformat": 4
 },
 "nbformat": 4,
 "nbformat_minor": 2
}
